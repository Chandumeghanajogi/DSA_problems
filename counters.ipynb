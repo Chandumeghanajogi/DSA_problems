{
 "cells": [
  {
   "cell_type": "code",
   "execution_count": 82,
   "id": "36625bbd",
   "metadata": {},
   "outputs": [
    {
     "name": "stdout",
     "output_type": "stream",
     "text": [
      "['l', 'a', 'b', 'e', 'l', 'l', 'l', 'e']\n"
     ]
    }
   ],
   "source": [
    "s = [\"bella\",\"label\",\"roller\"]\n",
    "b=[]\n",
    "a=s[0]\n",
    "for i in s[1:]:\n",
    "    for char in i:\n",
    "        if char in a:\n",
    "            b.append(char)\n",
    "print(b)\n",
    "\n",
    "\n",
    "\n",
    "    "
   ]
  },
  {
   "cell_type": "code",
   "execution_count": 54,
   "id": "0116ab50",
   "metadata": {},
   "outputs": [
    {
     "name": "stdout",
     "output_type": "stream",
     "text": [
      "a\n",
      "1\n",
      "['hello1235', 'E', 'RT']\n",
      "Counter({'a': 1})\n"
     ]
    }
   ],
   "source": [
    "from collections import Counter\n",
    "\n",
    "# paragraph = \"Bob hit a ball, the hit BALL flew far after it was hit.\".lower().replace(\",\",\"\").replace(\".\",\"\")\n",
    "# banned = [\"hit\"]\n",
    "paragraph = \"a.\".lower().replace(\",\",\"\").replace(\".\",\"\")\n",
    "banned = []\n",
    "a=(paragraph.split(\" \"))\n",
    "b=Counter(a)\n",
    "max1=0\n",
    "key1=\"\"\n",
    "for key,value in b.items():\n",
    "\n",
    "    if key not in banned and value>max1:\n",
    "        max1=value\n",
    "        key1=key\n",
    "        \n",
    "print(key1)\n",
    "print(max1)\n",
    "\n",
    "import re\n",
    "apple=\"hello1235!$E@RT\"\n",
    "a=re.findall(r\"\\w+\",apple)\n",
    "print(a)\n",
    "        \n",
    "\n",
    "\n",
    "        \n",
    "\n",
    "\n",
    "print(b)\n",
    "\n"
   ]
  },
  {
   "cell_type": "code",
   "execution_count": 2,
   "id": "0a52de7f",
   "metadata": {},
   "outputs": [
    {
     "name": "stdout",
     "output_type": "stream",
     "text": [
      "chandu\n"
     ]
    }
   ],
   "source": [
    "s=\"Chandu\"\n",
    "a=s.lower()\n",
    "print(a)"
   ]
  },
  {
   "cell_type": "code",
   "execution_count": 21,
   "id": "4b12bfd2",
   "metadata": {},
   "outputs": [
    {
     "name": "stdout",
     "output_type": "stream",
     "text": [
      "97\n",
      "97\n"
     ]
    }
   ],
   "source": [
    "print(ord(\"a\"))\n",
    "print(65+32)"
   ]
  },
  {
   "cell_type": "code",
   "execution_count": 24,
   "id": "1f875b0e",
   "metadata": {},
   "outputs": [
    {
     "name": "stdout",
     "output_type": "stream",
     "text": [
      "chandumeghana\n"
     ]
    }
   ],
   "source": [
    "def lower(s):\n",
    "    a1=\"\"\n",
    "    for i in s:\n",
    "        charvalue=ord(i)\n",
    "        if 65<= charvalue <=90:\n",
    "            a1+=chr(charvalue+32)\n",
    "        else:\n",
    "            a1+=i\n",
    "    return a1\n",
    "            \n",
    "    \n",
    "s=\"ChanduMeghana\"\n",
    "print(lower(s))"
   ]
  },
  {
   "cell_type": "code",
   "execution_count": null,
   "id": "1e715267",
   "metadata": {},
   "outputs": [],
   "source": []
  },
  {
   "cell_type": "code",
   "execution_count": null,
   "id": "e85edbe0",
   "metadata": {},
   "outputs": [],
   "source": [
    "# the counter is something that gives the character and frequency ."
   ]
  },
  {
   "cell_type": "code",
   "execution_count": 10,
   "id": "d35b1443",
   "metadata": {},
   "outputs": [
    {
     "name": "stdout",
     "output_type": "stream",
     "text": [
      "c 0\n",
      "h 0\n",
      "a 0\n",
      "n 1\n",
      "d 0\n",
      "u 0\n",
      "False\n"
     ]
    }
   ],
   "source": [
    "# questions\n",
    "from collections import Counter\n",
    "def anagram(s1,s2):\n",
    "    a=Counter(s1)\n",
    "    b=Counter(s2)\n",
    "    for char,key in a.items():\n",
    "        print(char,b.get(char,0))\n",
    "    if s1==s2:\n",
    "        return True\n",
    "    return False  \n",
    "\n",
    "s1=\"channdu\"\n",
    "s2=\"silent\"\n",
    "print(anagram(s1,s2))\n"
   ]
  }
 ],
 "metadata": {
  "kernelspec": {
   "display_name": "Python 3",
   "language": "python",
   "name": "python3"
  },
  "language_info": {
   "codemirror_mode": {
    "name": "ipython",
    "version": 3
   },
   "file_extension": ".py",
   "mimetype": "text/x-python",
   "name": "python",
   "nbconvert_exporter": "python",
   "pygments_lexer": "ipython3",
   "version": "3.13.1"
  }
 },
 "nbformat": 4,
 "nbformat_minor": 5
}
