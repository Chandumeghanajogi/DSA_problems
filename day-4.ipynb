{
 "cells": [
  {
   "cell_type": "code",
   "execution_count": 17,
   "id": "8a8baaaa",
   "metadata": {},
   "outputs": [
    {
     "name": "stdout",
     "output_type": "stream",
     "text": [
      "101\n"
     ]
    }
   ],
   "source": [
    "s=\"11\"\n",
    "res=s[0]\n",
    "for i in range(1,len(s)):\n",
    "    if s[i]==s[i-1]:\n",
    "        insertchar=\"1\" if s[i]==\"0\" else \"0\"\n",
    "        res+=insertchar\n",
    "    res+=s[i]\n",
    "    print(res)\n",
    "            \n"
   ]
  },
  {
   "cell_type": "code",
   "execution_count": 2,
   "id": "59b6df50",
   "metadata": {},
   "outputs": [
    {
     "name": "stdout",
     "output_type": "stream",
     "text": [
      "1\n"
     ]
    }
   ],
   "source": [
    "print(121%10)"
   ]
  },
  {
   "cell_type": "code",
   "execution_count": 4,
   "id": "cdf68e56",
   "metadata": {},
   "outputs": [
    {
     "name": "stdout",
     "output_type": "stream",
     "text": [
      "1\n"
     ]
    }
   ],
   "source": [
    "def array(num):\n",
    "    main=num\n",
    "    count=0\n",
    "    while num>0:\n",
    "        temp=num%10\n",
    "        if main%temp==0:\n",
    "            count+=1\n",
    "        num//=10\n",
    "    return count\n",
    "num=7\n",
    "print(array(num))\n"
   ]
  },
  {
   "cell_type": "code",
   "execution_count": 18,
   "id": "d74b1b39",
   "metadata": {},
   "outputs": [
    {
     "name": "stdout",
     "output_type": "stream",
     "text": [
      "GCD OF 3 and 2 is 1\n",
      "['ChndU', 'MeghanA']\n"
     ]
    }
   ],
   "source": [
    "# CODING QUESTIONS \n",
    "# 1. GCD (Greatest Common Divisor)  \n",
    "# \t• \tProblem Statement \n",
    "# •\tWrite a program to compute the Greatest Common Divisor (GCD) of two positive integers using the repeated subtraction method. In this method, the larger number is repeatedly reduced by subtracting the smaller number until both numbers become equal. This value will be the GCD of the original two numbers. \n",
    "# Input Format \n",
    "# •\tTwo positive integers num1 and num2, separated by a space. \n",
    "# Output Format \n",
    "# \t• \tPrint the GCD of the two numbers in the format: \n",
    "# GCD of <num1> and <num2> is <gcd>       4 12\n",
    "# Constraints \n",
    "# \t• \t1 ≤ num1, num2 ≤ 10^5 \n",
    "num1,num2=3,2\n",
    "num11=num1\n",
    "num22=num2\n",
    "while num1!=num2:\n",
    "      if num1>num2:\n",
    "            num1=num1-num2\n",
    "      else:\n",
    "            num2=num2-num1\n",
    "      \n",
    "print(f'GCD OF {num11} and {num22} is {num1}')\n",
    "\n",
    "\n",
    " \n",
    "# 2. Capitalize First and Last Character of Each Word in a String \n",
    " \n",
    "# Problem Statement \n",
    "#    Write a Python program to capitalize the first and last character of each word in a given string. \n",
    "# A word is defined as a sequence of characters separated by spaces. The program should process each word such that: \n",
    "# •\tThe first and last letters of each word are converted to uppercase. \n",
    "# •\tAll other characters remain unchanged. \n",
    " \n",
    "# Input Format \n",
    "# •\tA single line containing a string s (may include multiple words, lowercase/uppercase letters). \n",
    " \n",
    "# Output Format \n",
    "# •\tPrint the modified string where the first and last characters of each word are capitalized. \n",
    "# Constraints \n",
    "# •\t1 ≤ Length of string ≤ 1000 \n",
    "# •\tThe string contains only alphabetic characters and spaces. \n",
    "# •\tWords will contain at least one character. \n",
    "\n",
    "s=\"chndu meghana\"\n",
    "s1=s.split(\" \")\n",
    "a=[]\n",
    "n=len(s)\n",
    "for ch in s1:\n",
    "    if len(ch)==1:\n",
    "         a.append(ch.upper())\n",
    "    else:\n",
    "          new=ch[0].upper() + ch[1:-1] + ch[-1].upper()\n",
    "          a.append(new)\n",
    "print(a)\n",
    "\n",
    "\n",
    "          \n",
    "          \n",
    "\n",
    "      \n",
    "# 3. Factorial of the Number using Recursion \n",
    " \n",
    "# Problem Statement \n",
    "# Write a Python program to calculate the factorial of a number using recursion. \n",
    "# The factorial of a non-negative integer n is the product of all positive integers less than or equal to n. \n",
    "# •\tDenoted as: n! \n",
    "# •\tExample: 5! = 5 × 4 × 3 × 2 × 1 = 120 \n",
    "# •\tFactorial is not defined for negative numbers. \n",
    "# Input Format \n",
    "# •\tA single integer num (can be 0 or a positive integer). \n",
    "# Output Format \n",
    "# •\tIf num < 0: print Error! Factorial of a negative number doesn't exist. \n",
    "# •\tElse: print Factorial of <num> is <factorial> \n",
    "# Constraints \n",
    "# •\t-10 ≤ num ≤ 1000 \n",
    "# (Although factorials grow fast, recursion is safe up to ~998 in Python by default recursion depth.) \n",
    " \n"
   ]
  },
  {
   "cell_type": "code",
   "execution_count": 4,
   "id": "2c46b469",
   "metadata": {},
   "outputs": [
    {
     "name": "stdout",
     "output_type": "stream",
     "text": [
      "One Million FourThousandFiveHunderdSixty Seven\n"
     ]
    }
   ],
   "source": [
    "def numberToWords(num: int):\n",
    "        units=[\"\",\"One\",\"Two\",\"Three\",\"Four\",\"Five\",\"Six\",\"Seven\",\"Eight\",\"Nine\",\"Ten\"]\n",
    "        tens=[\"\",\"\",\"Twenty\",\"Thrity\",\"Fourty\",\"Fifty\",\"Sixty\",\"Seventy\",\"Eighty\",\"Ninety\"]\n",
    "        teens = [\"Ten\", \"Eleven\", \"Twelve\", \"Thirteen\", \"Fourteen\", \"Fifteen\",\n",
    "             \"Sixteen\", \"Seventeen\", \"Eighteen\", \"Nineteen\"]\n",
    "\n",
    "        def helper(num):\n",
    "            if num<10:\n",
    "                return units[num]\n",
    "            elif num<20:\n",
    "                return teens[num-10]\n",
    "            elif num<100:\n",
    "                return tens[num//10] +\" \"+units[num%10] if num%10!=0 else \"\"\n",
    "            elif num<1000:\n",
    "                return units[num//100]+\"Hunderd\" +helper(num%100) if num%100!=0 else \"\"\n",
    "            elif num<10000:\n",
    "                return units[num//1000]+\"Thousand\"+helper(num%1000) if num%1000!=0 else \"\"\n",
    "            elif num<100000:\n",
    "                return teens[num//10000]+\"Thousand\"+helper(num%10000) if num%10000!=0 else \"\"\n",
    "            # elif num<1000000\n",
    "            elif num<10000000:\n",
    "                return units[num//1000000]+\" \"+\"Million\"+\" \"+helper(num%10000) if num%1000001!=0 else \" \"\n",
    "            else:\n",
    "                return f\"too big\"\n",
    "        return helper(num).strip()\n",
    "num = 1234567\n",
    "print(numberToWords(num))\n",
    "            "
   ]
  },
  {
   "cell_type": "code",
   "execution_count": 10,
   "id": "5a464be3",
   "metadata": {},
   "outputs": [
    {
     "name": "stdout",
     "output_type": "stream",
     "text": [
      "{1: 388, 2: 0, 3: 400}\n",
      "0.9\n"
     ]
    }
   ],
   "source": [
    "a={1:388,2:000,3:400}\n",
    "for i in a:\n",
    "    a.get(i,0)\n",
    "print(a)\n",
    "\n",
    "num=9\n",
    "print(9/10)"
   ]
  },
  {
   "cell_type": "code",
   "execution_count": 1,
   "id": "768bc7b8",
   "metadata": {},
   "outputs": [
    {
     "name": "stdout",
     "output_type": "stream",
     "text": [
      "[18, 6, 6, 6, 1, -1]\n"
     ]
    }
   ],
   "source": [
    "arr = [17, 18, 5, 4, 6, 1]\n",
    "n=len(arr)\n",
    "mini=-1\n",
    "for i in range(n-1,-1,-1):\n",
    "    arr[i],mini=mini,max(mini,arr[i])\n",
    "print(arr)"
   ]
  },
  {
   "cell_type": "code",
   "execution_count": 13,
   "id": "57056c3b",
   "metadata": {},
   "outputs": [
    {
     "name": "stdout",
     "output_type": "stream",
     "text": [
      "[30, 10, 10, 5]\n"
     ]
    }
   ],
   "source": [
    "arr = [30,10,10,5]\n",
    "# arr.reverse()\n",
    "# print(arr)\n",
    "mini=float(\"-inf\")\n",
    "temp=[]\n",
    "for i in reversed(range(len(arr))):\n",
    "     if arr[i]>=mini:\n",
    "          temp.append(arr[i])\n",
    "          mini=arr[i]\n",
    "print(temp[::-1])\n",
    "\n",
    "\n",
    "\n",
    "\n"
   ]
  }
 ],
 "metadata": {
  "kernelspec": {
   "display_name": "Python 3",
   "language": "python",
   "name": "python3"
  },
  "language_info": {
   "codemirror_mode": {
    "name": "ipython",
    "version": 3
   },
   "file_extension": ".py",
   "mimetype": "text/x-python",
   "name": "python",
   "nbconvert_exporter": "python",
   "pygments_lexer": "ipython3",
   "version": "3.13.1"
  }
 },
 "nbformat": 4,
 "nbformat_minor": 5
}
