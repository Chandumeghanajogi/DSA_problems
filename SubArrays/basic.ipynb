{
 "cells": [
  {
   "cell_type": "code",
   "execution_count": 1,
   "id": "62c4034c",
   "metadata": {},
   "outputs": [
    {
     "name": "stdout",
     "output_type": "stream",
     "text": [
      "fl\n"
     ]
    }
   ],
   "source": [
    "strs = [\"flower\",\"flow\",\"flight\"]\n",
    "main=strs[0]\n",
    "first=len(main)\n",
    "res=\"\"\n",
    "for i in strs[1:]:\n",
    "    while main!=i[0:first]:\n",
    "        first-=1\n",
    "        if first==0:\n",
    "            print(\"empty\")\n",
    "        main=main[0:first]\n",
    "print(main)\n"
   ]
  },
  {
   "cell_type": "code",
   "execution_count": 6,
   "id": "9102788e",
   "metadata": {},
   "outputs": [
    {
     "name": "stdout",
     "output_type": "stream",
     "text": [
      "[1, 0, 1, 1, 1, 1, 0, 1]\n",
      "4\n"
     ]
    }
   ],
   "source": [
    "b=[1, 0, 1, 1,1,1, 0, 1] \n",
    "q=list(b)\n",
    "print(q)\n",
    "count=0\n",
    "maxones=0\n",
    "for i in q:\n",
    "    if i==1:\n",
    "        count+=1\n",
    "    else:\n",
    "        count=0\n",
    "    maxones=max(maxones,count)\n",
    "print(maxones)"
   ]
  },
  {
   "cell_type": "code",
   "execution_count": 5,
   "id": "196042db",
   "metadata": {},
   "outputs": [
    {
     "name": "stdout",
     "output_type": "stream",
     "text": [
      "[[1], [2], [3], [4], [5]]\n"
     ]
    }
   ],
   "source": [
    "a=[1,2,3,4,5]\n",
    "final=[]\n",
    "for i in range(len(a)):\n",
    "    for j in range(i,len(a)):\n",
    "        a2=(a[i:j+1])\n",
    "        if len(a2)==1:\n",
    "            final.append(a2)\n",
    "print(final)\n"
   ]
  },
  {
   "cell_type": "code",
   "execution_count": 13,
   "id": "cfc070ee",
   "metadata": {},
   "outputs": [
    {
     "name": "stdout",
     "output_type": "stream",
     "text": [
      "57\n",
      "no\n",
      "51\n",
      "17\n"
     ]
    }
   ],
   "source": [
    "# t = int(input())\n",
    "\n",
    "# while t > 0:\n",
    "n, x, y = 4,40,10\n",
    "a = [15,8,22,6]\n",
    "# t -= 1\n",
    "# Your code goes here\n",
    "sum1=sum(a)\n",
    "total=0\n",
    "final=0\n",
    "for i in a:\n",
    "    if i>y:\n",
    "        total+=(i-y)\n",
    "    else:\n",
    "        total+=0\n",
    "final=total+x\n",
    "print(final)\n",
    "if final<sum1:\n",
    "    print(\"COUPON\")\n",
    "else:\n",
    "    print(\"no\")\n",
    "\n",
    "print(sum1)\n",
    "print(total)"
   ]
  },
  {
   "cell_type": "code",
   "execution_count": 2,
   "id": "22656484",
   "metadata": {},
   "outputs": [
    {
     "name": "stdout",
     "output_type": "stream",
     "text": [
      "c\n",
      "h\n",
      "N\n",
      "D\n",
      "U\n"
     ]
    }
   ],
   "source": [
    "s=\"chNDU\"\n",
    "for i in range(len(s)):\n",
    "    print(s[i])"
   ]
  }
 ],
 "metadata": {
  "kernelspec": {
   "display_name": "Python 3",
   "language": "python",
   "name": "python3"
  },
  "language_info": {
   "codemirror_mode": {
    "name": "ipython",
    "version": 3
   },
   "file_extension": ".py",
   "mimetype": "text/x-python",
   "name": "python",
   "nbconvert_exporter": "python",
   "pygments_lexer": "ipython3",
   "version": "3.13.1"
  }
 },
 "nbformat": 4,
 "nbformat_minor": 5
}
