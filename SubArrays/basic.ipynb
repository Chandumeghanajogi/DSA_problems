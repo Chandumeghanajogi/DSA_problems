{
 "cells": [
  {
   "cell_type": "code",
   "execution_count": 28,
   "id": "05e50a05",
   "metadata": {},
   "outputs": [
    {
     "ename": "IndexError",
     "evalue": "pop from empty list",
     "output_type": "error",
     "traceback": [
      "\u001b[1;31m---------------------------------------------------------------------------\u001b[0m",
      "\u001b[1;31mIndexError\u001b[0m                                Traceback (most recent call last)",
      "Cell \u001b[1;32mIn[28], line 29\u001b[0m\n\u001b[0;32m     23\u001b[0m         \u001b[38;5;28;01mreturn\u001b[39;00m \u001b[38;5;28;01mFalse\u001b[39;00m\n\u001b[0;32m     28\u001b[0m s\u001b[38;5;241m=\u001b[39m\u001b[38;5;124m\"\u001b[39m\u001b[38;5;124m{\u001b[39m\u001b[38;5;124m()}\u001b[39m\u001b[38;5;124m\"\u001b[39m\n\u001b[1;32m---> 29\u001b[0m \u001b[38;5;28mprint\u001b[39m(\u001b[43mparen\u001b[49m\u001b[43m(\u001b[49m\u001b[43ms\u001b[49m\u001b[43m)\u001b[49m)\n",
      "Cell \u001b[1;32mIn[28], line 16\u001b[0m, in \u001b[0;36mparen\u001b[1;34m(s)\u001b[0m\n\u001b[0;32m     14\u001b[0m                 \u001b[38;5;28;01mreturn\u001b[39;00m \u001b[38;5;28;01mFalse\u001b[39;00m\n\u001b[0;32m     15\u001b[0m             \u001b[38;5;28;01melse\u001b[39;00m:\n\u001b[1;32m---> 16\u001b[0m                 \u001b[43mstack\u001b[49m\u001b[38;5;241;43m.\u001b[39;49m\u001b[43mpop\u001b[49m\u001b[43m(\u001b[49m\u001b[43m)\u001b[49m\n\u001b[0;32m     20\u001b[0m \u001b[38;5;28;01mif\u001b[39;00m \u001b[38;5;28mlen\u001b[39m(stack)\u001b[38;5;241m==\u001b[39m\u001b[38;5;241m0\u001b[39m:\n\u001b[0;32m     21\u001b[0m     \u001b[38;5;28;01mreturn\u001b[39;00m \u001b[38;5;28;01mTrue\u001b[39;00m\n",
      "\u001b[1;31mIndexError\u001b[0m: pop from empty list"
     ]
    }
   ],
   "source": [
    "def paren(s):\n",
    "    main=\"{([\"\n",
    "    stack=[]\n",
    "    for i in s:\n",
    "        if i in main:\n",
    "            stack.append(i)\n",
    "            if not stack:\n",
    "                return False\n",
    "            else:\n",
    "                top=stack.pop()\n",
    "                \n",
    "                \n",
    "                if (top==\"(\" and i!=\")\") or (top==\"[\" and i!=\"]\") or (top==\"[\" and i!=\"]\"):\n",
    "                    return False\n",
    "                else:\n",
    "                    stack.pop()\n",
    "                \n",
    "           \n",
    "                \n",
    "    if len(stack)==0:\n",
    "        return True\n",
    "    else:\n",
    "        return False\n",
    "    \n",
    "            \n",
    "    \n",
    "    \n",
    "s=\"{()}\"\n",
    "print(paren(s))"
   ]
  },
  {
   "cell_type": "code",
   "execution_count": null,
   "id": "aec5354b",
   "metadata": {},
   "outputs": [],
   "source": [
    "\n",
    "You are given a string num representing a large integer. An integer is good if it meets the following conditions:\n",
    "\n",
    "It is a substring of num with length 3.\n",
    "It consists of only one unique digit.\n",
    "Return the maximum good integer as a string or an empty string \"\" if no such integer exists.\n",
    "\n",
    "Note:\n",
    "\n",
    "A substring is a contiguous sequence of characters within a string.\n",
    "There may be leading zeroes in num or a good integer.\n",
    " \n",
    "\n",
    "Example 1:\n",
    "\n",
    "Input: num = \"6777133339\"\n",
    "Output: \"777\"\n",
    "Explanation: There are two distinct good integers: \"777\" and \"333\".\n",
    "\"777\" is the largest, so we return \"777\".\n",
    "Example 2:\n",
    "\n",
    "Input: num = \"2300019\"\n",
    "Output: \"000\"\n",
    "Explanation: \"000\" is the only good integer.\n",
    "Example 3:\n",
    "\n",
    "Input: num = \"42352338\"\n",
    "Output: \"\"\n",
    "Explanation: No substring of length 3 consists of only one unique digit. Therefore, there are no good integers.\n",
    " \n",
    "\n",
    "Constraints:\n",
    "\n",
    "3 <= num.length <= 1000\n",
    "num only consists of digits."
   ]
  },
  {
   "cell_type": "code",
   "execution_count": null,
   "id": "cc39539d",
   "metadata": {},
   "outputs": [
    {
     "ename": "TypeError",
     "evalue": "filter expected 2 arguments, got 3",
     "output_type": "error",
     "traceback": [
      "\u001b[1;31m---------------------------------------------------------------------------\u001b[0m",
      "\u001b[1;31mTypeError\u001b[0m                                 Traceback (most recent call last)",
      "Cell \u001b[1;32mIn[4], line 3\u001b[0m\n\u001b[0;32m      1\u001b[0m a\u001b[38;5;241m=\u001b[39m[\u001b[38;5;241m1\u001b[39m,\u001b[38;5;241m2\u001b[39m,\u001b[38;5;241m43\u001b[39m,\u001b[38;5;241m2\u001b[39m,\u001b[38;5;241m20\u001b[39m]\n\u001b[0;32m      2\u001b[0m b\u001b[38;5;241m=\u001b[39m[\u001b[38;5;241m2\u001b[39m,\u001b[38;5;241m1\u001b[39m,\u001b[38;5;241m2\u001b[39m,\u001b[38;5;241m2\u001b[39m,\u001b[38;5;241m1\u001b[39m]\n\u001b[1;32m----> 3\u001b[0m final\u001b[38;5;241m=\u001b[39m\u001b[38;5;28mlist\u001b[39m(\u001b[38;5;28;43mfilter\u001b[39;49m\u001b[43m(\u001b[49m\u001b[38;5;28;43;01mlambda\u001b[39;49;00m\u001b[43m \u001b[49m\u001b[43mx\u001b[49m\u001b[43m,\u001b[49m\u001b[43my\u001b[49m\u001b[43m:\u001b[49m\u001b[43mx\u001b[49m\u001b[38;5;241;43m-\u001b[39;49m\u001b[43my\u001b[49m\u001b[43m,\u001b[49m\u001b[43ma\u001b[49m\u001b[43m,\u001b[49m\u001b[43mb\u001b[49m\u001b[43m)\u001b[49m)\n\u001b[0;32m      4\u001b[0m \u001b[38;5;28mprint\u001b[39m(final)\n",
      "\u001b[1;31mTypeError\u001b[0m: filter expected 2 arguments, got 3"
     ]
    }
   ],
   "source": [
    "a=[1,2,43,2,20]\n",
    "b=[2,1,2,2,1]\n",
    "final=list(filter(lambda x,y:x-y))\n",
    "print(final)"
   ]
  },
  {
   "cell_type": "code",
   "execution_count": 3,
   "id": "a6081e50",
   "metadata": {},
   "outputs": [
    {
     "name": "stdout",
     "output_type": "stream",
     "text": [
      "name:chandu\n",
      "course:aaa\n",
      "level:ddd\n"
     ]
    }
   ],
   "source": [
    "def e(**kwargs):\n",
    "    for key,value in kwargs.items():\n",
    "        print(f\"{key}:{value}\")\n",
    "e(name=\"chandu\",course=\"aaa\",level=\"ddd\")"
   ]
  },
  {
   "cell_type": "code",
   "execution_count": 13,
   "id": "e401e859",
   "metadata": {},
   "outputs": [
    {
     "name": "stdout",
     "output_type": "stream",
     "text": [
      "4\n",
      "5\n"
     ]
    }
   ],
   "source": [
    "a=4\n",
    "b=5\n",
    "a=a^b\n",
    "b=a^b\n",
    "a=a^b\n",
    "print(b)\n",
    "print(a)"
   ]
  },
  {
   "cell_type": "code",
   "execution_count": null,
   "id": "d5ec3428",
   "metadata": {},
   "outputs": [
    {
     "ename": "TypeError",
     "evalue": "unsupported operand type(s) for +: 'int' and 'str'",
     "output_type": "error",
     "traceback": [
      "\u001b[1;31m---------------------------------------------------------------------------\u001b[0m",
      "\u001b[1;31mTypeError\u001b[0m                                 Traceback (most recent call last)",
      "Cell \u001b[1;32mIn[30], line 3\u001b[0m\n\u001b[0;32m      1\u001b[0m n\u001b[38;5;241m=\u001b[39m\u001b[38;5;241m5\u001b[39m\n\u001b[0;32m      2\u001b[0m \u001b[38;5;28;01mfor\u001b[39;00m i \u001b[38;5;129;01min\u001b[39;00m \u001b[38;5;28mrange\u001b[39m(\u001b[38;5;241m1\u001b[39m,n\u001b[38;5;241m+\u001b[39m\u001b[38;5;241m1\u001b[39m):\n\u001b[1;32m----> 3\u001b[0m     \u001b[38;5;28mprint\u001b[39m(\u001b[38;5;124m\"\u001b[39m\u001b[38;5;124m \u001b[39m\u001b[38;5;124m\"\u001b[39m\u001b[38;5;241m*\u001b[39m(\u001b[38;5;241;43m2\u001b[39;49m\u001b[38;5;241;43m*\u001b[39;49m\u001b[43m(\u001b[49m\u001b[43mn\u001b[49m\u001b[38;5;241;43m-\u001b[39;49m\u001b[43mi\u001b[49m\u001b[43m)\u001b[49m\u001b[38;5;241;43m+\u001b[39;49m\u001b[38;5;124;43m\"\u001b[39;49m\u001b[38;5;124;43m* \u001b[39;49m\u001b[38;5;124;43m\"\u001b[39;49m\u001b[38;5;241;43m*\u001b[39;49m\u001b[43mi\u001b[49m))\n\u001b[0;32m      4\u001b[0m     \u001b[38;5;66;03m# stars=\"* \"*i\u001b[39;00m\n\u001b[0;32m      5\u001b[0m     \u001b[38;5;66;03m# print(spaces+stars)\u001b[39;00m\n",
      "\u001b[1;31mTypeError\u001b[0m: unsupported operand type(s) for +: 'int' and 'str'"
     ]
    }
   ],
   "source": [
    "n=10\n",
    "\n",
    "    "
   ]
  },
  {
   "cell_type": "code",
   "execution_count": 6,
   "id": "10830616",
   "metadata": {},
   "outputs": [
    {
     "name": "stdout",
     "output_type": "stream",
     "text": [
      "  1 2 3 4 5 6 \n",
      "   2 3 4 5 6 \n",
      "    3 4 5 6 \n",
      "     4 5 6 \n",
      "      5 6 \n",
      "       6 \n",
      "      5 6 \n",
      "     4 5 6 \n",
      "    3 4 5 6 \n",
      "   2 3 4 5 6 \n",
      "  1 2 3 4 5 6 \n"
     ]
    }
   ],
   "source": [
    "n=6\n",
    "for i in range(1,n+1):\n",
    "    p=i\n",
    "    print(\" \"*(i),end=\" \")\n",
    "    for j in range(n-i+1):\n",
    "        print(p,end=\" \")\n",
    "        p+=1\n",
    "    print()\n",
    "\n",
    "for i in range(1,n):\n",
    "    p=n-i\n",
    "    print(\" \"*(n-i),end=\" \")\n",
    "    for j in range(i+1):\n",
    "        print(p,end=\" \")\n",
    "        p+=1\n",
    "    print()\n",
    "    \n",
    "    \n",
    "  \n",
    "    \n",
    "\n"
   ]
  },
  {
   "cell_type": "code",
   "execution_count": 5,
   "id": "b0353234",
   "metadata": {},
   "outputs": [
    {
     "name": "stdout",
     "output_type": "stream",
     "text": [
      "pangram\n"
     ]
    }
   ],
   "source": [
    "s=\"We promptly judged antique ivory buckles for the next prize\"\n",
    "s=s.replace(\" \",\"\")\n",
    "a=len(set(s))\n",
    "if a==26:\n",
    "    print(\"pangram\")\n",
    "else:\n",
    "    print(\"not pangram\")"
   ]
  },
  {
   "cell_type": "code",
   "execution_count": 3,
   "id": "a3639e97",
   "metadata": {},
   "outputs": [
    {
     "name": "stdout",
     "output_type": "stream",
     "text": [
      "          * \n",
      "        * * * \n",
      "      * * * * * \n",
      "    * * * * * * * \n",
      "  * * * * * * * * * \n"
     ]
    }
   ],
   "source": [
    "n=5\n",
    "for i in range(n):\n",
    "    for j in range(n-i):\n",
    "        print(\" \",end=\" \")\n",
    "    for j in range(i+1):\n",
    "        print(\"*\",end=\" \")\n",
    "    for j in range(i):\n",
    "        print(\"*\",end=\" \")\n",
    "    print()"
   ]
  },
  {
   "cell_type": "code",
   "execution_count": 18,
   "id": "9fdc3f00",
   "metadata": {},
   "outputs": [
    {
     "name": "stdout",
     "output_type": "stream",
     "text": [
      "8\n"
     ]
    }
   ],
   "source": [
    "def power(a,b):\n",
    "    if b==0:\n",
    "        return 1\n",
    "   \n",
    "    return a*power(a,b-1)\n",
    "print(power(2,3))"
   ]
  },
  {
   "cell_type": "code",
   "execution_count": 42,
   "id": "91503680",
   "metadata": {},
   "outputs": [
    {
     "name": "stdout",
     "output_type": "stream",
     "text": [
      "20\n"
     ]
    }
   ],
   "source": [
    "a=20\n",
    "b=40\n",
    "while a!=0 and b!=0:   #20 40\n",
    "    if b>a:\n",
    "        b=b%a\n",
    "    else:\n",
    "        a=a%b\n",
    "    if a==0:\n",
    "        print(b)\n",
    "        \n",
    "    else:\n",
    "        print(a)\n",
    "       \n"
   ]
  },
  {
   "cell_type": "code",
   "execution_count": 2,
   "id": "26c97da9",
   "metadata": {},
   "outputs": [
    {
     "name": "stdout",
     "output_type": "stream",
     "text": [
      "1\n"
     ]
    }
   ],
   "source": [
    "\n",
    "def gcd(a,b):  #2 4   gcd(4,4%2)  gcd(2,0)gcd()\n",
    "        if b==0:\n",
    "            return a\n",
    "        return gcd(b,a%b)\n",
    "print(gcd(40999,206666))"
   ]
  },
  {
   "cell_type": "code",
   "execution_count": 32,
   "id": "9a5033fa",
   "metadata": {},
   "outputs": [
    {
     "name": "stdout",
     "output_type": "stream",
     "text": [
      "      * \n",
      "     * * \n",
      "    * * * \n",
      "   * * * * \n",
      "  * * * * * \n"
     ]
    }
   ],
   "source": [
    "n=5\n",
    "for i in range(n):\n",
    "    print(\" \"*(n-i),end=\" \")\n",
    "    print(\"* \"*(i+1))"
   ]
  },
  {
   "cell_type": "code",
   "execution_count": 34,
   "id": "5f8e52ab",
   "metadata": {},
   "outputs": [
    {
     "name": "stdout",
     "output_type": "stream",
     "text": [
      "1 \n",
      "1 2 \n",
      "1 2 3 \n",
      "1 2 3 4 \n"
     ]
    }
   ],
   "source": [
    "n=4\n",
    "for i in range(n):\n",
    "    for j in range(i+1):\n",
    "        print(j+1,end=\" \")\n",
    "    print()"
   ]
  },
  {
   "cell_type": "code",
   "execution_count": 27,
   "id": "1835c3b5",
   "metadata": {},
   "outputs": [
    {
     "name": "stdout",
     "output_type": "stream",
     "text": [
      "3\n"
     ]
    }
   ],
   "source": [
    "def digit(n):\n",
    "    total=0\n",
    "    for i in str(n):\n",
    "        total+=int(i)\n",
    "    return int(total)\n",
    "print(digit(30))"
   ]
  },
  {
   "cell_type": "code",
   "execution_count": null,
   "id": "268bf0f7",
   "metadata": {},
   "outputs": [
    {
     "name": "stdout",
     "output_type": "stream",
     "text": [
      "{'a': 1, 'b': 2, 'c': 3, 'd': 4, 'e': 5, 'f': 6, 'g': 7, 'h': 8, 'i': 9, 'j': 10, 'k': 11, 'l': 12, 'm': 13, 'n': 14, 'o': 15, 'p': 16, 'q': 17, 'r': 18, 's': 19, 't': 20, 'u': 21, 'v': 22, 'w': 23, 'x': 24, 'y': 25, 'z': 26}\n",
      "12552031545\n"
     ]
    }
   ],
   "source": [
    "s = \"leetcode\"\n",
    "k = 2\n",
    "a=[chr(i) for i in range(97,97+26)]\n",
    "dict1={}\n",
    "for i,key in enumerate(a):\n",
    "    dict1[key]=i+1\n",
    "print(dict1)\n",
    "result=\"\"\n",
    "for char in s:\n",
    "    result+=str(dict1[char])\n",
    "print(result)\n",
    "i=1\n",
    "while main\n",
    "\n",
    "    \n",
    "\n",
    "\n",
    "\n",
    "        "
   ]
  },
  {
   "cell_type": "code",
   "execution_count": 1,
   "id": "7b17534d",
   "metadata": {},
   "outputs": [
    {
     "name": "stdout",
     "output_type": "stream",
     "text": [
      "1\n",
      "2\n",
      "3\n",
      "4\n",
      "5\n",
      "6\n",
      "7\n"
     ]
    }
   ],
   "source": [
    "i=1\n",
    "while True:\n",
    "    if i==8:\n",
    "        break\n",
    "    print(i)\n",
    "    i+=1"
   ]
  },
  {
   "cell_type": "code",
   "execution_count": 17,
   "id": "26141a45",
   "metadata": {},
   "outputs": [
    {
     "name": "stdout",
     "output_type": "stream",
     "text": [
      "82\n",
      "68\n",
      "100\n",
      "1\n",
      "true\n"
     ]
    }
   ],
   "source": [
    "# Input: n = 19\n",
    "# Output: true\n",
    "# Explanation:\n",
    "# 12 + 92 = 82\n",
    "# 82 + 22 = 68\n",
    "# 62 + 82 = 100\n",
    "# 12 + 02 + 02 = 1\n",
    "\n",
    "n=19\n",
    "while n!=1:\n",
    "    res=sum(int(i)**2 for i in str(n))\n",
    "    print(res)\n",
    "    n=res\n",
    "     \n",
    "if n==1:\n",
    "    print(\"true\")\n",
    "else:\n",
    "    print(\"false\")\n",
    "      "
   ]
  },
  {
   "cell_type": "code",
   "execution_count": 18,
   "id": "756c8f7a",
   "metadata": {},
   "outputs": [
    {
     "name": "stdout",
     "output_type": "stream",
     "text": [
      "82\n",
      "68\n",
      "100\n",
      "1\n",
      "True\n"
     ]
    }
   ],
   "source": [
    "\n",
    "def isHappy(n: int) -> bool:\n",
    "    while n!=1:\n",
    "        res=sum(int(i)**2 for i in str(n))\n",
    "        print(res)\n",
    "        n=res\n",
    "    if n==1:\n",
    "        return True\n",
    "    return False\n",
    "n=19\n",
    "print(isHappy(n))"
   ]
  },
  {
   "cell_type": "code",
   "execution_count": 15,
   "id": "b3ec4faf",
   "metadata": {},
   "outputs": [
    {
     "name": "stdout",
     "output_type": "stream",
     "text": [
      "rec a mar\n",
      "ramacer\n",
      "false\n"
     ]
    }
   ],
   "source": [
    "# Input: \"A man, a plan, a canal: Panama\"\n",
    "# Output: True\n",
    "\n",
    "# Input: \"race a car\"\n",
    "# Output: False\n",
    "\n",
    "s=\"ram a cer\"\n",
    "print(s[::-1])\n",
    "res=[]\n",
    "for i in s:\n",
    "    if i.isalnum():\n",
    "        res.append(i.lower())\n",
    "final=\"\".join(map(str,res))\n",
    "print(final)\n",
    "if final==final[::-1]:\n",
    "    print(\"true\")\n",
    "else:\n",
    "    print(\"false\")\n",
    "    \n",
    "    \n",
    "\n"
   ]
  },
  {
   "cell_type": "code",
   "execution_count": 2,
   "id": "0b9383be",
   "metadata": {},
   "outputs": [
    {
     "name": "stdout",
     "output_type": "stream",
     "text": [
      "18\n",
      "[[5], [5, 9], [5, 9, 1], [5, 9, 1, 8], [5, 9, 1, 8, 7], [9], [9, 1], [9, 1, 8], [9, 1, 8, 7], [1], [1, 8], [1, 8, 7], [8], [8, 7], [7]]\n"
     ]
    }
   ],
   "source": [
    "a=[5,9,1,8,7]\n",
    "final=[]\n",
    "highest=0\n",
    "for i in range(len(a)):\n",
    "    for j in range(i,len(a)):\n",
    "        res=a[i:j+1]\n",
    "        final.append(res)\n",
    "        sum1=sum(res)\n",
    "        if len(res)==3 and sum1>highest:\n",
    "            highest=sum1\n",
    "print(highest)\n",
    "print(final)\n",
    "\n",
    "\n"
   ]
  },
  {
   "cell_type": "code",
   "execution_count": 1,
   "id": "62c4034c",
   "metadata": {},
   "outputs": [
    {
     "name": "stdout",
     "output_type": "stream",
     "text": [
      "fl\n"
     ]
    }
   ],
   "source": [
    "strs = [\"flower\",\"flow\",\"flight\"]\n",
    "main=strs[0]\n",
    "first=len(main)\n",
    "res=\"\"\n",
    "for i in strs[1:]:\n",
    "    while main!=i[0:first]:\n",
    "        first-=1\n",
    "        if first==0:\n",
    "            print(\"empty\")\n",
    "        main=main[0:first]\n",
    "print(main)\n"
   ]
  },
  {
   "cell_type": "code",
   "execution_count": 6,
   "id": "9102788e",
   "metadata": {},
   "outputs": [
    {
     "name": "stdout",
     "output_type": "stream",
     "text": [
      "[1, 0, 1, 1, 1, 1, 0, 1]\n",
      "4\n"
     ]
    }
   ],
   "source": [
    "b=[1, 0, 1, 1,1,1, 0, 1] \n",
    "q=list(b)\n",
    "print(q)\n",
    "count=0\n",
    "maxones=0\n",
    "for i in q:\n",
    "    if i==1:\n",
    "        count+=1\n",
    "    else:\n",
    "        count=0\n",
    "    maxones=max(maxones,count)\n",
    "print(maxones)"
   ]
  },
  {
   "cell_type": "code",
   "execution_count": 5,
   "id": "196042db",
   "metadata": {},
   "outputs": [
    {
     "name": "stdout",
     "output_type": "stream",
     "text": [
      "[[1], [2], [3], [4], [5]]\n"
     ]
    }
   ],
   "source": [
    "a=[1,2,3,4,5]\n",
    "final=[]\n",
    "for i in range(len(a)):\n",
    "    for j in range(i,len(a)):\n",
    "        a2=(a[i:j+1])\n",
    "        if len(a2)==1:\n",
    "            final.append(a2)\n",
    "print(final)\n"
   ]
  },
  {
   "cell_type": "code",
   "execution_count": 13,
   "id": "cfc070ee",
   "metadata": {},
   "outputs": [
    {
     "name": "stdout",
     "output_type": "stream",
     "text": [
      "57\n",
      "no\n",
      "51\n",
      "17\n"
     ]
    }
   ],
   "source": [
    "# t = int(input())\n",
    "\n",
    "# while t > 0:\n",
    "n, x, y = 4,40,10\n",
    "a = [15,8,22,6]\n",
    "# t -= 1\n",
    "# Your code goes here\n",
    "sum1=sum(a)\n",
    "total=0\n",
    "final=0\n",
    "for i in a:\n",
    "    if i>y:\n",
    "        total+=(i-y)\n",
    "    else:\n",
    "        total+=0\n",
    "final=total+x\n",
    "print(final)\n",
    "if final<sum1:\n",
    "    print(\"COUPON\")\n",
    "else:\n",
    "    print(\"no\")\n",
    "\n",
    "print(sum1)\n",
    "print(total)"
   ]
  },
  {
   "cell_type": "code",
   "execution_count": 2,
   "id": "22656484",
   "metadata": {},
   "outputs": [
    {
     "name": "stdout",
     "output_type": "stream",
     "text": [
      "c\n",
      "h\n",
      "N\n",
      "D\n",
      "U\n"
     ]
    }
   ],
   "source": [
    "s=\"chNDU\"\n",
    "for i in range(len(s)):\n",
    "    print(s[i])"
   ]
  }
 ],
 "metadata": {
  "kernelspec": {
   "display_name": "Python 3",
   "language": "python",
   "name": "python3"
  },
  "language_info": {
   "codemirror_mode": {
    "name": "ipython",
    "version": 3
   },
   "file_extension": ".py",
   "mimetype": "text/x-python",
   "name": "python",
   "nbconvert_exporter": "python",
   "pygments_lexer": "ipython3",
   "version": "3.13.1"
  }
 },
 "nbformat": 4,
 "nbformat_minor": 5
}
