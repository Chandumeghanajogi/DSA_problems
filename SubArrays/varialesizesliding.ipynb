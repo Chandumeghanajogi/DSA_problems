{
 "cells": [
  {
   "cell_type": "code",
   "execution_count": null,
   "id": "324f5888",
   "metadata": {},
   "outputs": [],
   "source": [
    "# max consecutive ones leetcode 1004:\n"
   ]
  },
  {
   "cell_type": "code",
   "execution_count": 25,
   "id": "2e5af05c",
   "metadata": {},
   "outputs": [
    {
     "name": "stdout",
     "output_type": "stream",
     "text": [
      "0\n",
      "[12]\n",
      "1\n",
      "[12, 1]\n",
      "2\n",
      "[12, 1, 3]\n",
      "2\n",
      "[3, 1]\n",
      "2\n",
      "[1, 1]\n",
      "2\n",
      "[1, 1, 6]\n",
      "2\n",
      "[1, 6, 7]\n",
      "2\n",
      "[6, 7, 1]\n",
      "2\n",
      "[6, 7, 1, 8]\n",
      "2\n",
      "[1, 8, 1]\n",
      "4\n",
      "None\n"
     ]
    }
   ],
   "source": [
    "#to find out the variable size sliding window\n",
    "#Question\n",
    "# you are given an array and you should find the maximum length of the subarray which has atmost k odd numbers:\n",
    "# arr=[12,1,3,1,1,6,7,1,8,1]\n",
    "# k=2\n",
    "\n",
    "def subarray(arr):\n",
    "    k=2\n",
    "    l=0\n",
    "    temp=0\n",
    "    count=0\n",
    "    for r in range(len(arr)):\n",
    "        if arr[r]%2!=0:\n",
    "            temp+=1\n",
    "        while (temp>k):\n",
    "            if arr[l]%2==1:\n",
    "                temp-=1\n",
    "            l+=1\n",
    "        print(temp)\n",
    "        count=max(count,r-l+1)\n",
    "        print(arr[l:r+1])\n",
    "    print(count)\n",
    "    \n",
    "\n",
    "        \n",
    "           \n",
    "\n",
    "\n",
    "arr=[12,1,3,1,1,6,7,1,8,1]\n",
    "print(subarray(arr))\n",
    "\n",
    "\n",
    "\n"
   ]
  }
 ],
 "metadata": {
  "kernelspec": {
   "display_name": "Python 3",
   "language": "python",
   "name": "python3"
  },
  "language_info": {
   "codemirror_mode": {
    "name": "ipython",
    "version": 3
   },
   "file_extension": ".py",
   "mimetype": "text/x-python",
   "name": "python",
   "nbconvert_exporter": "python",
   "pygments_lexer": "ipython3",
   "version": "3.13.1"
  }
 },
 "nbformat": 4,
 "nbformat_minor": 5
}
