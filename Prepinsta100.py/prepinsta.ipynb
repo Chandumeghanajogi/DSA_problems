{
 "cells": [
  {
   "cell_type": "code",
   "execution_count": 5,
   "id": "a37869bd",
   "metadata": {},
   "outputs": [
    {
     "name": "stdout",
     "output_type": "stream",
     "text": [
      "0\n"
     ]
    }
   ],
   "source": [
    "def password(n1):\n",
    "    score=0\n",
    "    if len(n1)<8:\n",
    "        return \"incorrect\"\n",
    "    else:\n",
    "        if any(n.isupper() and n.islower() and n.isdigit() for n in n1 ):\n",
    "            score+=3\n",
    "    return score\n",
    "\n",
    "n1=\"ChanduMe11\"\n",
    "print(password(n1))\n",
    "        \n"
   ]
  },
  {
   "cell_type": "code",
   "execution_count": null,
   "id": "72e8d2c7",
   "metadata": {},
   "outputs": [
    {
     "name": "stdout",
     "output_type": "stream",
     "text": [
      "False\n"
     ]
    }
   ],
   "source": [
    "#prime numbers\n",
    "def prime(n):\n",
    "    for i in range(2,int(n**0.5)+1):\n",
    "        if n%i==0:\n",
    "            return False\n",
    "        return True\n",
    "n=166\n",
    "print(prime(n))"
   ]
  },
  {
   "cell_type": "code",
   "execution_count": 64,
   "id": "39800821",
   "metadata": {},
   "outputs": [
    {
     "name": "stdout",
     "output_type": "stream",
     "text": [
      "None\n"
     ]
    }
   ],
   "source": [
    "# Input: num = \"1210\"\n",
    "# Output: true\n",
    "# Explanation:\n",
    "# num[0] = '1'. The digit 0 occurs once in num.\n",
    "# num[1] = '2'. The digit 1 occurs twice in num.\n",
    "# num[2] = '1'. The digit 2 occurs once in num.\n",
    "# num[3] = '0'. The digit 3 occurs zero times in num.\n",
    "# The condition holds true for every index in \"1210\", so return true.\n",
    "def num(n):\n",
    "    for i in str(n):\n",
    "        if str(n).count(i)==i:\n",
    "            print(\"true\")\n",
    "print(num(1210))"
   ]
  },
  {
   "cell_type": "code",
   "execution_count": 10,
   "id": "efce513c",
   "metadata": {},
   "outputs": [
    {
     "name": "stdout",
     "output_type": "stream",
     "text": [
      "1\n",
      "[1, 2, [2, 3], [3, 4]]\n"
     ]
    }
   ],
   "source": [
    "# arr = [4,2,1,3]\n",
    "# Output: [[1,2],[2,3],[3,4]]\n",
    "\n",
    "# Explanation: The minimum absolute difference is 1. List all pairs with difference equal to 1 in ascending order.\n",
    "\n",
    "arr = [4,2,1,3]\n",
    "res=[]\n",
    "arr.sort()\n",
    "min1=float(\"inf\")\n",
    "n=len(arr)\n",
    "for i in range(1,n):\n",
    "    diff=arr[i]-arr[i-1]\n",
    "    if diff<min1:\n",
    "        min1=diff\n",
    "        print(min1)\n",
    "        res=[arr[i-1],arr[i]]\n",
    "    elif diff==min1:\n",
    "            res.append([arr[i-1],arr[i]])\n",
    "print(res)\n",
    "\n",
    "\n",
    "\n",
    "\n"
   ]
  },
  {
   "cell_type": "code",
   "execution_count": null,
   "id": "7d860f1c",
   "metadata": {},
   "outputs": [
    {
     "name": "stdout",
     "output_type": "stream",
     "text": [
      "Counter({'1': 2, '2': 1, '0': 1})\n"
     ]
    },
    {
     "ename": "AttributeError",
     "evalue": "'dict' object has no attribute 'add'",
     "output_type": "error",
     "traceback": [
      "\u001b[1;31m---------------------------------------------------------------------------\u001b[0m",
      "\u001b[1;31mAttributeError\u001b[0m                            Traceback (most recent call last)",
      "Cell \u001b[1;32mIn[81], line 7\u001b[0m\n\u001b[0;32m      5\u001b[0m res\u001b[38;5;241m=\u001b[39m{}\n\u001b[0;32m      6\u001b[0m \u001b[38;5;28;01mfor\u001b[39;00m index,key \u001b[38;5;129;01min\u001b[39;00m \u001b[38;5;28menumerate\u001b[39m(num):\n\u001b[1;32m----> 7\u001b[0m     \u001b[43mres\u001b[49m\u001b[38;5;241;43m.\u001b[39;49m\u001b[43madd\u001b[49m(index,key)\n\u001b[0;32m      8\u001b[0m \u001b[38;5;28mprint\u001b[39m(res)\n",
      "\u001b[1;31mAttributeError\u001b[0m: 'dict' object has no attribute 'add'"
     ]
    }
   ],
   "source": [
    "from collections import Counter\n",
    "from collections import defaultdict\n",
    "num=\"1210\"\n",
    "a=Counter(num)\n",
    "print(a)\n",
    "res=defaultdict(list)\n",
    "for i in \n",
    "\n",
    "   \n",
    "\n",
    "\n"
   ]
  },
  {
   "cell_type": "code",
   "execution_count": 60,
   "id": "b5f3d07b",
   "metadata": {},
   "outputs": [
    {
     "name": "stdout",
     "output_type": "stream",
     "text": [
      "    * \n",
      "   * * \n",
      "  * * * \n",
      " * * * * \n",
      "* * * * * \n",
      " * * * * \n",
      "  * * * \n",
      "   * * \n",
      "    * \n",
      "     \n"
     ]
    }
   ],
   "source": [
    "n=5\n",
    "for i in range(1,n+1):\n",
    "    print(\" \"*(n-i)+\"* \"*i)\n",
    "for j in range(1,n+1):\n",
    "    print(\" \"*j  +\"* \"*(n-j))\n"
   ]
  },
  {
   "cell_type": "code",
   "execution_count": null,
   "id": "97f87ba8",
   "metadata": {},
   "outputs": [
    {
     "name": "stdout",
     "output_type": "stream",
     "text": [
      "[1, 2, 3, 4, 5, 6, 7, 8, 9, 10, 11, 12, 13, 14, 15, 16, 17, 18, 19, 20, 21, 22]\n"
     ]
    }
   ],
   "source": [
    "# left = 1, right = 22\n",
    "# Output: [1,2,3,4,5,6,7,8,9,11,12,15,22]\n",
    "# for i in range(1,23):\n",
    "#     for i in str(i):\n",
    "# a=[]\n",
    "# def self(n):\n",
    "#     flag=False\n",
    "#     for ch in str(n):\n",
    "#         print(ch)\n",
    "#         if int(n)//int(ch):\n",
    "#             print(int(n)%int(ch)==0)\n",
    "#             flag=True\n",
    "           \n",
    "#     if flag:\n",
    "#         return n\n",
    "#     else:\n",
    "#         return 0\n",
    "# print(self(13))\n",
    "a=[]\n",
    "def self(n):\n",
    "    flag=False\n",
    "    for i in range(1,23):\n",
    "            for ch in str(i):\n",
    "                if int(i)%int(ch)==0:\n",
    "                    a.append(i)\n",
    "                    break\n",
    "print(a)\n"
   ]
  },
  {
   "cell_type": "code",
   "execution_count": 49,
   "id": "fea6c5e2",
   "metadata": {},
   "outputs": [
    {
     "name": "stdout",
     "output_type": "stream",
     "text": [
      "[1, 2, 3, 4, 5, 6, 7, 8, 9, 11, 12, 15, 22]\n"
     ]
    }
   ],
   "source": [
    "\n",
    "def self(n):\n",
    "    flag=True\n",
    "    for i in str(n):\n",
    "        if int(i)==0 or int(n)%int(i)!=0:\n",
    "           return False\n",
    "    return True\n",
    "a=[]\n",
    "for i in range(1,23):\n",
    "    if self(i):\n",
    "        a.append(i)\n",
    "print(a)\n",
    "        \n",
    "            \n",
    "\n",
    "\n",
    "\n",
    "\n",
    "           "
   ]
  },
  {
   "cell_type": "code",
   "execution_count": 48,
   "id": "3c75a194",
   "metadata": {},
   "outputs": [
    {
     "name": "stdout",
     "output_type": "stream",
     "text": [
      "negative\n",
      "even\n",
      "55\n",
      "55\n",
      "10\n",
      "[5, 7, 11, 13, 17, 19]\n",
      "15\n",
      "15\n",
      "-321\n",
      "54321\n",
      "[153, 370, 371, 407]\n"
     ]
    }
   ],
   "source": [
    "#1\n",
    "def numbers(n):\n",
    "    if n>0:\n",
    "        return \"positive\"\n",
    "    else:\n",
    "        return \"negative\"\n",
    "n=-2\n",
    "print(numbers(n))\n",
    "\n",
    "#2\n",
    "def number(n):\n",
    "    if n%2==0:\n",
    "        return \"even\"\n",
    "    else:\n",
    "        return \"odd\"\n",
    "n=20\n",
    "print(number(n))\n",
    "\n",
    "#3\n",
    "n=10\n",
    "sum1=n*(n+1)//2\n",
    "print(sum1)\n",
    "sum2=0\n",
    "for i in range(11):\n",
    "    sum2+=i\n",
    "print(sum2)\n",
    "s=0\n",
    "#to print the sum of given numbers\n",
    "for i in range(1,5):\n",
    "    s+=i\n",
    "print(s)\n",
    "\n",
    "#prime numbers\n",
    "\n",
    "def prime(n):\n",
    "    for i in range(2,int(n**0.5)+1):\n",
    "        if n%i==0:\n",
    "            return False\n",
    "    return True\n",
    "\n",
    "#5 7 11 13 17 19\n",
    "a=[]\n",
    "for i in range(5,20):\n",
    "    if prime(i):\n",
    "        a.append(i)\n",
    "print(a)\n",
    "\n",
    "\n",
    "n=12345\n",
    "res=0\n",
    "for i in str(n):\n",
    "    res+=int(i)\n",
    "print(res)\n",
    "\n",
    "def string(n):\n",
    "    if n==0:\n",
    "        return 0\n",
    "    return n%10 + string(n//10)\n",
    "print(string(12345))\n",
    "\n",
    "def rev1(n1):\n",
    "    sign=1\n",
    "    if n1>0:\n",
    "       n=n1\n",
    "    elif n1<0:\n",
    "        n=-n1\n",
    "        sign=-1\n",
    "    rev=0\n",
    "    while n>0:\n",
    "        temp=n%10\n",
    "        rev=rev*10+temp\n",
    "        n//=10\n",
    "    if sign==-1:\n",
    "        rev=-rev\n",
    "    return rev\n",
    "print(rev1(-123))\n",
    "\n",
    "def reverse(num,rev):\n",
    "    if num==0:\n",
    "        return rev\n",
    "    a=int(num%10)\n",
    "    rev=rev*10+a\n",
    "    return reverse(int(num)//10,rev)\n",
    "\n",
    "print(reverse(12345,0))\n",
    "\n",
    "#armstong number\n",
    "\n",
    "def arm(n):\n",
    "    suu=0\n",
    "    main=n\n",
    "    while n>0:\n",
    "        temp=n%10\n",
    "        suu+=temp**3\n",
    "        n//=10\n",
    "    if suu==main:\n",
    "        return True\n",
    "    else:\n",
    "        return False\n",
    "# print(arm(371))\n",
    "    \n",
    "a=[]\n",
    "for i in range(100,1000):\n",
    "    if arm(i):\n",
    "        a.append(i)\n",
    "print(a)\n",
    "\n",
    "\n",
    "\n"
   ]
  },
  {
   "cell_type": "code",
   "execution_count": 51,
   "id": "0353c5bb",
   "metadata": {},
   "outputs": [
    {
     "name": "stdout",
     "output_type": "stream",
     "text": [
      "[0, 1, 1, 2, 3, 5, 8]\n",
      "8\n"
     ]
    }
   ],
   "source": [
    "def fiba(n):\n",
    "    a=[0,1]\n",
    "    for i in range(1,n):\n",
    "        a.append(a[i]+a[i-1])\n",
    "    print(a)\n",
    "    return a[n]\n",
    "print(fiba(6))"
   ]
  },
  {
   "cell_type": "code",
   "execution_count": null,
   "id": "b2d06aa9",
   "metadata": {},
   "outputs": [],
   "source": []
  }
 ],
 "metadata": {
  "kernelspec": {
   "display_name": "Python 3",
   "language": "python",
   "name": "python3"
  },
  "language_info": {
   "codemirror_mode": {
    "name": "ipython",
    "version": 3
   },
   "file_extension": ".py",
   "mimetype": "text/x-python",
   "name": "python",
   "nbconvert_exporter": "python",
   "pygments_lexer": "ipython3",
   "version": "3.13.1"
  }
 },
 "nbformat": 4,
 "nbformat_minor": 5
}
