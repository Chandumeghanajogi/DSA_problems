{
 "cells": [
  {
   "cell_type": "code",
   "execution_count": null,
   "id": "a92b8f62",
   "metadata": {},
   "outputs": [
    {
     "name": "stdout",
     "output_type": "stream",
     "text": [
      "10-->20-->30-->done\n"
     ]
    }
   ],
   "source": [
    "class Node:\n",
    "    def __init__(self,data):\n",
    "        self.data=data\n",
    "        self.next=None\n",
    "class Linkedlist:\n",
    "    node1=Node(10)\n",
    "    node2=Node(20)\n",
    "    node3=Node(30)\n",
    "    node1.next=node2\n",
    "    node2.next=node3\n",
    "    head=node1\n",
    "    curr=head\n",
    "    while curr is not None:\n",
    "        print(curr.data,end=\"-->\")\n",
    "        curr=curr.next\n",
    "    print(\"done\")\n",
    "\n"
   ]
  },
  {
   "cell_type": "code",
   "execution_count": 4,
   "id": "f69069ab",
   "metadata": {},
   "outputs": [
    {
     "name": "stdout",
     "output_type": "stream",
     "text": [
      "50-->100-->200-->300-->None\n"
     ]
    }
   ],
   "source": [
    "class Node:\n",
    "    def __init__(self,data):\n",
    "        self.data=data\n",
    "        self.next=None\n",
    "class Link:\n",
    "    node1=Node(100)\n",
    "    node2=Node(200)\n",
    "    node3=Node(300)\n",
    "    node1.next=node2\n",
    "    node2.next=node3\n",
    "    head=node1\n",
    "    new=Node(50)\n",
    "    new.next=head\n",
    "    head=new\n",
    "    \n",
    "    temp=head\n",
    "    while temp is not None :\n",
    "        print(temp.data,end=\"-->\")\n",
    "        temp=temp.next\n",
    "    print(None)\n",
    "\n",
    "\n",
    "        "
   ]
  },
  {
   "cell_type": "code",
   "execution_count": null,
   "id": "0801fe18",
   "metadata": {},
   "outputs": [],
   "source": [
    "class node:\n",
    "    def __init__(self,data):\n",
    "        self.data=data\n",
    "        self.next=None\n",
    "class chandu:\n",
    "    def __init__(self):\n",
    "        self.head=None\n",
    "        def insertbeg\n",
    "        "
   ]
  }
 ],
 "metadata": {
  "kernelspec": {
   "display_name": "Python 3",
   "language": "python",
   "name": "python3"
  },
  "language_info": {
   "codemirror_mode": {
    "name": "ipython",
    "version": 3
   },
   "file_extension": ".py",
   "mimetype": "text/x-python",
   "name": "python",
   "nbconvert_exporter": "python",
   "pygments_lexer": "ipython3",
   "version": "3.13.1"
  }
 },
 "nbformat": 4,
 "nbformat_minor": 5
}
