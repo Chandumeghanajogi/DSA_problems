{
 "cells": [
  {
   "cell_type": "code",
   "execution_count": 9,
   "id": "d06d2f45",
   "metadata": {},
   "outputs": [
    {
     "name": "stdout",
     "output_type": "stream",
     "text": [
      "1 2 3 4\n",
      "<class 'int'>\n",
      "chandu\n",
      "0\n",
      "chandu\n",
      "2\n",
      "chandu\n",
      "4\n",
      "chandu\n",
      "6\n",
      "chandu\n",
      "8\n",
      "<class 'int'>\n"
     ]
    }
   ],
   "source": [
    "#list traversal:\n",
    "\n",
    "arr=[1,2,3,4]\n",
    "print(*arr)\n",
    "a=(1)\n",
    "print(type(a))\n",
    "for _ in range(10):\n",
    "    if _%2==0:\n",
    "        print(\"chandu\")\n",
    "        print(_)\n",
    "\n",
    "a=1\n",
    "print(type(a))"
   ]
  },
  {
   "cell_type": "code",
   "execution_count": 32,
   "id": "7297a3d8",
   "metadata": {},
   "outputs": [
    {
     "name": "stdout",
     "output_type": "stream",
     "text": [
      "7\n"
     ]
    }
   ],
   "source": [
    "# input prices:[7,1,5,3,4,8]\n",
    "# output=5\n",
    "\n",
    "def stock(arr):\n",
    "    profit=0\n",
    "    n=len(arr)\n",
    "    for i in range(n):\n",
    "        for j in range(i+1,n):\n",
    "            if arr[j]-arr[i]>profit:\n",
    "                profit=arr[j]-arr[i]\n",
    "    return profit\n",
    "\n",
    "arr=[7,1,5,3,4,8]\n",
    "print(stock(arr))"
   ]
  }
 ],
 "metadata": {
  "kernelspec": {
   "display_name": "Python 3",
   "language": "python",
   "name": "python3"
  },
  "language_info": {
   "codemirror_mode": {
    "name": "ipython",
    "version": 3
   },
   "file_extension": ".py",
   "mimetype": "text/x-python",
   "name": "python",
   "nbconvert_exporter": "python",
   "pygments_lexer": "ipython3",
   "version": "3.13.1"
  }
 },
 "nbformat": 4,
 "nbformat_minor": 5
}
