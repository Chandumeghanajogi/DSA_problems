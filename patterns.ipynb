{
 "cells": [
  {
   "cell_type": "code",
   "execution_count": null,
   "id": "0880d5d7",
   "metadata": {},
   "outputs": [],
   "source": [
    "Sample 2:\n",
    "Input\n",
    "Output\n",
    "6\n",
    "2 3 4 5 6 8\n",
    "10\n",
    "8\n",
    "Explanation:\n",
    "The pairs that have a sum less than 10 are:\n",
    "\n",
    "(2, 3), sum = 5\n",
    "(2, 4), sum = 6\n",
    "(2, 5), sum = 7\n",
    "(2, 6), sum = 8\n",
    "(3, 4), sum = 7\n",
    "(3, 5), sum = 8\n",
    "(3, 6), sum = 9\n",
    "(4, 5), sum = 9"
   ]
  },
  {
   "cell_type": "code",
   "execution_count": 45,
   "id": "447cc0ff",
   "metadata": {},
   "outputs": [
    {
     "name": "stdout",
     "output_type": "stream",
     "text": [
      "2 3\n",
      "2 4\n",
      "2 5\n",
      "2 6\n",
      "2 8\n",
      "3 4\n",
      "3 5\n",
      "3 6\n",
      "3 8\n",
      "4 5\n",
      "4 6\n",
      "4 8\n",
      "5 6\n",
      "5 8\n",
      "6 8\n",
      "8\n"
     ]
    }
   ],
   "source": [
    "nums=[2, 3 ,4, 5 ,6, 8]\n",
    "k=10\n",
    "count=0\n",
    "for i in range(len(nums)):\n",
    "    for j in range(i+1,len(nums)):\n",
    "        print(nums[i],nums[j])\n",
    "        if i<j and (nums[i]+nums[j])<10:\n",
    "            count+=1\n",
    "        else:\n",
    "            count+=0\n",
    "print(count)\n",
    "    \n",
    "# (2, 3), sum = 5\n",
    "# (2, 4), sum = 6\n",
    "# (2, 5), sum = 7\n",
    "# (2, 6), sum = 8\n",
    "# (3, 4), sum = 7\n",
    "# (3, 5), sum = 8\n",
    "# (3, 6), sum = 9\n",
    "# (4, 5), sum = 9\n"
   ]
  },
  {
   "cell_type": "code",
   "execution_count": 6,
   "id": "089da38a",
   "metadata": {},
   "outputs": [
    {
     "name": "stdout",
     "output_type": "stream",
     "text": [
      "2\n"
     ]
    }
   ],
   "source": [
    "a=[1,2,3,4]\n",
    "b=[1,3,2,5]\n",
    "i=0\n",
    "j=0\n",
    "count=0\n",
    "while i<len(a) and j<len(b):\n",
    "    if a[i]==b[j]:\n",
    "        count+=1\n",
    "        i+=1\n",
    "        j+=1\n",
    "    else:\n",
    "        count+=0\n",
    "        j+=1\n",
    "    i+=1\n",
    "print(count)\n",
    "    "
   ]
  },
  {
   "cell_type": "code",
   "execution_count": 42,
   "id": "9fb95fd1",
   "metadata": {},
   "outputs": [
    {
     "name": "stdout",
     "output_type": "stream",
     "text": [
      "1\n"
     ]
    }
   ],
   "source": [
    "nums=[1,1,2]\n",
    "first=second=float(\"-inf\")\n",
    "for num in nums:\n",
    "    if num>first:\n",
    "        second=first\n",
    "        first=num\n",
    "    elif first>num>second:\n",
    "        second=num\n",
    "print(second)"
   ]
  },
  {
   "cell_type": "code",
   "execution_count": 31,
   "id": "d24b9414",
   "metadata": {},
   "outputs": [
    {
     "name": "stdout",
     "output_type": "stream",
     "text": [
      "3 3\n",
      "[1, 2, 4, 7, 5, 3, 6, 8, 9]\n"
     ]
    }
   ],
   "source": [
    "rows=3\n",
    "columns=3\n",
    "mat=[[1, 2, 3], [4, 5, 6], [7, 8, 9]]\n",
    "\n",
    "\n",
    "result=[]\n",
    "rows=len(mat)\n",
    "columns=len(mat[0])\n",
    "print(rows,columns)\n",
    "for dsum in range(rows+columns-1):\n",
    "    temp=[]\n",
    "    if dsum%2==0:\n",
    "        rowstart=min(dsum,rows-1)\n",
    "        columnstart=dsum-rowstart\n",
    "        while rowstart>=0 and columnstart<columns:\n",
    "            temp.append(mat[rowstart][columnstart])\n",
    "            rowstart-=1\n",
    "            columnstart+=1\n",
    "    else:\n",
    "        columnstart=min(dsum,columns-1)\n",
    "        rowstart=dsum-columnstart\n",
    "        while columnstart>=0 and rowstart<rows:\n",
    "            temp.append(mat[rowstart][columnstart])\n",
    "            columnstart-=1\n",
    "            rowstart+=1\n",
    "    result.extend(temp)\n",
    "\n",
    "print(result)\n",
    "        \n",
    "\n",
    "\n",
    "\n",
    "\n",
    "\n"
   ]
  },
  {
   "cell_type": "code",
   "execution_count": 35,
   "id": "aa2836c2",
   "metadata": {},
   "outputs": [
    {
     "name": "stdout",
     "output_type": "stream",
     "text": [
      "[1, 2]\n",
      "2 2\n"
     ]
    }
   ],
   "source": [
    "a=[[1,2],[4,5]]\n",
    "rows=len(a)\n",
    "colums=len(a[0])\n",
    "print(a[0])\n",
    "print(rows,colums)"
   ]
  },
  {
   "cell_type": "code",
   "execution_count": 23,
   "id": "0aa63d6d",
   "metadata": {},
   "outputs": [
    {
     "name": "stdout",
     "output_type": "stream",
     "text": [
      "chan\n"
     ]
    }
   ],
   "source": [
    "s=\"chan%&@\"\n",
    "s1=\"\"\n",
    "for char in s:\n",
    "    if char.isalnum():\n",
    "        s1+=char\n",
    "    \n",
    "print(s1)\n"
   ]
  },
  {
   "cell_type": "code",
   "execution_count": 11,
   "id": "120f448d",
   "metadata": {},
   "outputs": [
    {
     "name": "stdout",
     "output_type": "stream",
     "text": [
      "\n",
      "* \n",
      "* * \n",
      "* * * \n",
      "* * * * \n"
     ]
    }
   ],
   "source": [
    "n=5\n",
    "for i in range(n):\n",
    "    print(\"* \"*i)\n",
    "    \n",
    "    \n",
    "\n"
   ]
  },
  {
   "cell_type": "code",
   "execution_count": 8,
   "id": "c154e880",
   "metadata": {},
   "outputs": [
    {
     "name": "stdout",
     "output_type": "stream",
     "text": [
      "     \n",
      "    *\n",
      "   **\n",
      "  ***\n",
      " ****\n",
      "*****\n"
     ]
    }
   ],
   "source": [
    "n=6\n",
    "for i in range(1,n+1):\n",
    "    print(\" \"*(n-i)+\"*\"*(i-1))"
   ]
  },
  {
   "cell_type": "code",
   "execution_count": 5,
   "id": "d63f5612",
   "metadata": {},
   "outputs": [
    {
     "name": "stdout",
     "output_type": "stream",
     "text": [
      "*    *\n",
      "**  **\n",
      "******\n",
      "******\n",
      "**  **\n",
      "*    *\n"
     ]
    }
   ],
   "source": [
    "n=3\n",
    "for i in range(1,n+1):\n",
    "    print(\"*\"*i+\" \"*2*(n-i)+\"*\"*i)\n",
    "for j in range(n,0,-1):\n",
    "    print(\"*\"*j+\" \"*2*(n-j)+\"*\"*j)"
   ]
  },
  {
   "cell_type": "code",
   "execution_count": 9,
   "id": "1174f4ea",
   "metadata": {},
   "outputs": [
    {
     "name": "stdout",
     "output_type": "stream",
     "text": [
      "          * \n",
      "        * * * \n",
      "      * * * * * \n",
      "    * * * * * * * \n",
      "  * * * * * * * * * \n"
     ]
    }
   ],
   "source": [
    "n=5\n",
    "for i in range(n):\n",
    "    for j in range(n-i):\n",
    "        print(\" \",end=\" \")\n",
    "    for j in range(2*i+1):\n",
    "        print(\"*\",end=\" \")\n",
    "    print()"
   ]
  },
  {
   "cell_type": "code",
   "execution_count": 20,
   "id": "249acde2",
   "metadata": {},
   "outputs": [
    {
     "name": "stdout",
     "output_type": "stream",
     "text": [
      "          e \n",
      "        e d e \n",
      "      e d c e f \n",
      "    e d c b e f g \n",
      "  - - - - - - - - - \n",
      "    - - - - - - - \n",
      "      - - - - - \n",
      "        - - - \n",
      "          - \n"
     ]
    }
   ],
   "source": [
    "# #size 3\n",
    "\n",
    "# ----c----\n",
    "# --c-b-c--\n",
    "# c-b-a-b-c\n",
    "# --c-b-c--\n",
    "# ----c----\n",
    "\n",
    "# #size 5\n",
    "\n",
    "# --------e--------\n",
    "# ------e-d-e------\n",
    "# ----e-d-c-d-e----\n",
    "# --e-d-c-b-c-d-e--\n",
    "# e-d-c-b-a-b-c-d-e\n",
    "# --e-d-c-b-c-d-e--\n",
    "# ----e-d-c-d-e----\n",
    "# ------e-d-e------\n",
    "# --------e--------\n",
    "n=5\n",
    "\n",
    "for i in range(n-1):\n",
    "    p=97+(n-1)\n",
    "    for j in range(n-i):\n",
    "        print(\" \",end=\" \")\n",
    "    for j in range(i+1):\n",
    "        print(chr(p),end=\" \")\n",
    "        p-=1\n",
    "    p=97+(n-1)\n",
    "    for j in range(i):\n",
    "        print(chr(p),end=\" \")\n",
    "        p+=1\n",
    "    print()\n",
    "for i in range(n):\n",
    "   \n",
    "    for j in range(i+1):\n",
    "        print(\" \",end=\" \")\n",
    "    for j in range(n-i-1):\n",
    "        print(\"-\",end=\" \")\n",
    "    for j in range(n-i):\n",
    "        print(\"-\",end=\" \")\n",
    "    print()\n"
   ]
  },
  {
   "cell_type": "code",
   "execution_count": 57,
   "id": "ca9d6e42",
   "metadata": {},
   "outputs": [
    {
     "name": "stdout",
     "output_type": "stream",
     "text": [
      "2\n"
     ]
    }
   ],
   "source": [
    "def array(arr,k):\n",
    "    m=[]  #6\n",
    "    for i in range(len(arr)):\n",
    "        if arr[i]<=k:\n",
    "            m.append(arr[i])\n",
    "    else:\n",
    "            m.append(k)\n",
    "            m.extend(arr[k:])\n",
    "    return m[k]\n",
    "    \n",
    "\n",
    "arr=[1,2,3,4,5]\n",
    "k=2\n",
    "print(array(arr,k))"
   ]
  },
  {
   "cell_type": "code",
   "execution_count": 1,
   "id": "916c9f13",
   "metadata": {},
   "outputs": [
    {
     "ename": "TypeError",
     "evalue": "can only concatenate str (not \"int\") to str",
     "output_type": "error",
     "traceback": [
      "\u001b[1;31m---------------------------------------------------------------------------\u001b[0m",
      "\u001b[1;31mTypeError\u001b[0m                                 Traceback (most recent call last)",
      "Cell \u001b[1;32mIn[1], line 3\u001b[0m\n\u001b[0;32m      1\u001b[0m n\u001b[38;5;241m=\u001b[39m\u001b[38;5;241m6\u001b[39m\n\u001b[0;32m      2\u001b[0m \u001b[38;5;28;01mfor\u001b[39;00m i \u001b[38;5;129;01min\u001b[39;00m \u001b[38;5;28mrange\u001b[39m(n):\n\u001b[1;32m----> 3\u001b[0m     \u001b[38;5;28mprint\u001b[39m(\u001b[38;5;124;43m\"\u001b[39;49m\u001b[38;5;124;43m \u001b[39;49m\u001b[38;5;124;43m\"\u001b[39;49m\u001b[38;5;241;43m*\u001b[39;49m\u001b[43m(\u001b[49m\u001b[43mn\u001b[49m\u001b[38;5;241;43m-\u001b[39;49m\u001b[43mi\u001b[49m\u001b[43m)\u001b[49m\u001b[38;5;241;43m+\u001b[39;49m\u001b[38;5;124;43m\"\u001b[39;49m\u001b[38;5;124;43m*\u001b[39;49m\u001b[38;5;124;43m\"\u001b[39;49m\u001b[43m \u001b[49m\u001b[38;5;241;43m*\u001b[39;49m\u001b[43mi\u001b[49m\u001b[38;5;241;43m+\u001b[39;49m\u001b[38;5;241;43m1\u001b[39;49m)\n",
      "\u001b[1;31mTypeError\u001b[0m: can only concatenate str (not \"int\") to str"
     ]
    }
   ],
   "source": [
    "n=6\n",
    "for i in range(n):\n",
    "    print(\" \"*(n-i)+\"*\" *i+1)"
   ]
  },
  {
   "cell_type": "code",
   "execution_count": 65,
   "id": "83574ce4",
   "metadata": {},
   "outputs": [
    {
     "name": "stdout",
     "output_type": "stream",
     "text": [
      "2\n"
     ]
    }
   ],
   "source": [
    "def searchInsert( nums: list[int], target: int) -> int:\n",
    "        for i in range(len(nums)):\n",
    "            if nums[i]>=target:\n",
    "                  return i\n",
    "                \n",
    "           \n",
    "\n",
    "nums=[1,3,5,6]\n",
    "target=5\n",
    "print(searchInsert(nums,target))\n",
    "\n",
    "\n"
   ]
  },
  {
   "cell_type": "code",
   "execution_count": 32,
   "id": "83226a01",
   "metadata": {},
   "outputs": [
    {
     "name": "stdout",
     "output_type": "stream",
     "text": [
      "      * \n",
      "     * * \n",
      "    *   * \n",
      "   *     * \n",
      "  * * * * * \n"
     ]
    }
   ],
   "source": [
    "#!/usr/bin/python3\n",
    "\n",
    "n=5\n",
    "for i in range(n):\n",
    "    print(\" \"*(n-i),end=\" \") \n",
    "    for j in range(i+1):\n",
    "        if j==0 or i==n-1 or i==j :\n",
    "            print(\"*\",end=\" \") \n",
    "        else:\n",
    "            print(\" \",end=\" \")\n",
    "    print()     \n",
    "   "
   ]
  },
  {
   "cell_type": "code",
   "execution_count": 1,
   "id": "97c34ed3",
   "metadata": {},
   "outputs": [
    {
     "name": "stdout",
     "output_type": "stream",
     "text": [
      "     *\n",
      "    * *\n",
      "   *   *\n",
      "  *     *\n",
      " *       *\n",
      "* * * * * *\n"
     ]
    }
   ],
   "source": [
    "n = 6\n",
    "\n",
    "for i in range(1, n + 1):\n",
    "    print(' ' * (n - i), end='')\n",
    "    for j in range(1, 2 * i):\n",
    "        if j == 1 or j == 2 * i - 1 or i == n and j % 2 == 1:\n",
    "            print('*', end='')\n",
    "        else:\n",
    "            print(' ', end='')\n",
    "    print()"
   ]
  },
  {
   "cell_type": "code",
   "execution_count": null,
   "id": "3066ab2e",
   "metadata": {},
   "outputs": [],
   "source": [
    "#     A\n",
    "#   A B A\n",
    "# A B C B A\n",
    "n=5\n",
    "for i in range(n):\n",
    "    for j in range(i+1):\n",
    "        "
   ]
  },
  {
   "cell_type": "code",
   "execution_count": 48,
   "id": "39cccf53",
   "metadata": {},
   "outputs": [
    {
     "name": "stdout",
     "output_type": "stream",
     "text": [
      "A B C D E \n",
      "A B C D \n",
      "A B C \n",
      "A B \n",
      "A \n"
     ]
    }
   ],
   "source": [
    "# A\n",
    "# A B\n",
    "# A B C\n",
    "n=5\n",
    "for i in range(n):\n",
    "    p=65\n",
    "    for j in range(n-i):\n",
    "        print(chr(p),end=\" \")\n",
    "        p+=1\n",
    "    print()\n",
    "    \n"
   ]
  },
  {
   "cell_type": "code",
   "execution_count": null,
   "id": "a148a14c",
   "metadata": {},
   "outputs": [
    {
     "name": "stdout",
     "output_type": "stream",
     "text": [
      "          0 \n",
      "        1 1 2 \n",
      "      3 5 8 13 21 \n",
      "    34 55 89 144 233 377 610 \n",
      "  987 1597 2584 4181 6765 10946 17711 28657 46368 \n"
     ]
    }
   ],
   "source": [
    "def fib(n):\n",
    "    series=[]\n",
    "    a,b=0,1\n",
    "    series.append(a)\n",
    "    for i in range(n):\n",
    "       \n",
    "        a,b=b,a+b\n",
    "        series.append(a)\n",
    "    return series\n",
    "\n",
    "n=5\n",
    "p_series=fib(n*n)\n",
    "index=0\n",
    "for i in range(n):\n",
    "    for j in range(n-i):\n",
    "        print(\" \",end=\" \")\n",
    "    for j in range(i+1):\n",
    "        print(p_series[index],end=\" \") \n",
    "        index+=1\n",
    "    for j in range(i):\n",
    "        print(p_series[index],end=\" \")\n",
    "        index+=1\n",
    "        \n",
    "    print()\n",
    "\n",
    "\n",
    "    "
   ]
  },
  {
   "cell_type": "code",
   "execution_count": 18,
   "id": "47a081cd",
   "metadata": {},
   "outputs": [
    {
     "name": "stdout",
     "output_type": "stream",
     "text": [
      "1                 1 \n",
      "1 2             2 1 \n",
      "1 2 3         3 2 1 \n",
      "1 2 3 4     4 3 2 1 \n",
      "1 2 3 4 5 5 4 3 2 1 \n"
     ]
    }
   ],
   "source": [
    "n=5\n",
    "\n",
    "for i in range(n):\n",
    "    p=1\n",
    "    for j in range(i+1):\n",
    "        print(p,end=\" \")\n",
    "        p+=1\n",
    "    # print(\"\",end=\"\")\n",
    "# for i in range(n):\n",
    "    p=i+1\n",
    "    for j in range(n-i-1):\n",
    "         print(\" \",end=\" \")\n",
    "    for j in range(n-i-1):\n",
    "         print(\" \",end=\" \")\n",
    "    for j in range(i+1):\n",
    "        print(p,end=\" \")\n",
    "        p-=1\n",
    "    p+1\n",
    "    print()"
   ]
  },
  {
   "cell_type": "code",
   "execution_count": 37,
   "id": "0ac90cdf",
   "metadata": {},
   "outputs": [
    {
     "name": "stdout",
     "output_type": "stream",
     "text": [
      "1 2 3 4 5                 1 \n",
      "1 2 3 4             2 1 \n",
      "1 2 3         3 2 1 \n",
      "1 2     4 3 2 1 \n",
      "1 5 4 3 2 1 \n"
     ]
    }
   ],
   "source": [
    "n=5\n",
    "for i in range(n):\n",
    "    p=1\n",
    "    for j in range(n-i):\n",
    "        print(p,end=\" \")\n",
    "        p+=1\n",
    "    p=i+1\n",
    "    for j in range(n-i-1):\n",
    "        print(\" \",end=\" \")\n",
    "    for j in range(n-i-1):\n",
    "        print(\" \",end=\" \")\n",
    "    for j in range(i+1):\n",
    "        print(p,end=\" \")\n",
    "        p-=1\n",
    "    p+=1\n",
    "    print()"
   ]
  },
  {
   "cell_type": "code",
   "execution_count": 41,
   "id": "dc99f23f",
   "metadata": {},
   "outputs": [
    {
     "name": "stdout",
     "output_type": "stream",
     "text": [
      "          1 \n",
      "        2 1 2 \n",
      "      3 2 1 2 3 \n",
      "    4 3 2 1 2 3 4 \n",
      "  5 4 3 2 1 2 3 4 5 \n"
     ]
    }
   ],
   "source": [
    "n=5\n",
    "p=1\n",
    "for i in range(n):\n",
    "    for j in range(n-i):\n",
    "        print(\" \",end=\" \")\n",
    "    temp=p\n",
    "    for j in range(i+1):\n",
    "        print(temp,end=\" \")\n",
    "        temp-=1 \n",
    "    for j in range(i):\n",
    "        print(temp+2,end=\" \")\n",
    "        temp+=1\n",
    "    p+=1\n",
    "        \n",
    "    print()"
   ]
  },
  {
   "cell_type": "code",
   "execution_count": 82,
   "id": "5dc1857d",
   "metadata": {},
   "outputs": [
    {
     "name": "stdout",
     "output_type": "stream",
     "text": [
      "           *  \n",
      "         *   *  \n",
      "       *   *   *  \n",
      "     *   *   *   *  \n",
      "   *   *   *   *   *  \n"
     ]
    }
   ],
   "source": [
    "n=5\n",
    "p=1\n",
    "for i in range(n):\n",
    "    for j in range(n-i):\n",
    "        print(\" \",end=\" \")\n",
    "    for j in range(1*i+1):\n",
    "        print(\" * \",end=\" \")\n",
    "    \n",
    "    \n",
    "       \n",
    "    \n",
    "      \n",
    "    print()\n",
    "    "
   ]
  },
  {
   "cell_type": "code",
   "execution_count": 124,
   "id": "a8e1d6bd",
   "metadata": {},
   "outputs": [
    {
     "name": "stdout",
     "output_type": "stream",
     "text": [
      "          1 \n",
      "        2 1 2 \n",
      "      3 2 1 2 3 \n",
      "    4 3 2 1 2 3 4 \n",
      "  5 5 5 5 5 5 5 5 5 \n",
      "    5 5 5 5 5 5 5 \n",
      "      5 5 5 5 5 \n",
      "        5 5 5 \n",
      "          5 \n"
     ]
    }
   ],
   "source": [
    "n=5\n",
    "p=1\n",
    "for i in range(n-1):\n",
    "    for j in range(n-i):\n",
    "        print(\" \",end=\" \")\n",
    "    temp=p\n",
    "    for j in range(i+1):\n",
    "        print(temp,end=\" \")\n",
    "        temp-=1 \n",
    "\n",
    "    temp+=2\n",
    "   \n",
    "    for j in range(i):\n",
    "        print(temp,end=\" \")\n",
    "        temp+=1\n",
    "    p+=1\n",
    "     \n",
    "   \n",
    "      \n",
    "    \n",
    "    \n",
    "    print()\n",
    "\n",
    "for i in range(n):\n",
    "    for j in range(i+1):\n",
    "        print(\" \",end=\" \")\n",
    "    for j in range(i,n-1):\n",
    "        \n",
    "        print(p,end=\" \")\n",
    "    for j in range(i,n):\n",
    "        print(p,end=\" \")\n",
    "       \n",
    "   \n",
    " \n",
    "    print()\n",
    "\n",
    "   \n",
    "\n",
    "        \n",
    "       \n",
    "    \n"
   ]
  },
  {
   "cell_type": "code",
   "execution_count": 11,
   "id": "a36ade9a",
   "metadata": {},
   "outputs": [
    {
     "name": "stdout",
     "output_type": "stream",
     "text": [
      "          A \n",
      "        B B B \n",
      "      C C C C C \n",
      "    D D D D D D D \n",
      "  E E E E E E E E E \n"
     ]
    }
   ],
   "source": [
    "n=5\n",
    "p=65\n",
    "q=66\n",
    "for i in range(n):\n",
    "    for j in range(n-i):\n",
    "        print(\" \",end=\" \")\n",
    "    for j in range(i+1):\n",
    "        print(chr(p),end=\" \")\n",
    "        \n",
    "    for j in range(i):\n",
    "        print(chr(p),end=\" \")\n",
    "    p+=1\n",
    "        \n",
    "    print()"
   ]
  },
  {
   "cell_type": "code",
   "execution_count": 10,
   "id": "9b085ffb",
   "metadata": {},
   "outputs": [
    {
     "name": "stdout",
     "output_type": "stream",
     "text": [
      "          1 \n",
      "        2 2 2 \n",
      "      3 3 3 3 3 \n",
      "    4 4 4 4 4 4 4 \n",
      "  5 5 5 5 5 5 5 5 5 \n"
     ]
    }
   ],
   "source": [
    "n=5\n",
    "p=1\n",
    "for i in range(n):\n",
    "    for j in range(n-i):\n",
    "        print(\" \",end=\" \")\n",
    "    for j in range(i+1):\n",
    "        print(p,end=\" \")\n",
    "\n",
    "    for j in range(i):\n",
    "        print(p,end=\" \")\n",
    "    p+=1\n",
    "    \n",
    "    print()"
   ]
  },
  {
   "cell_type": "code",
   "execution_count": 44,
   "id": "f52e8585",
   "metadata": {},
   "outputs": [
    {
     "name": "stdout",
     "output_type": "stream",
     "text": [
      "          1 \n",
      "        1 2 1 \n",
      "      1 2 3 2 1 \n",
      "    1 2 3 4 3 2 1 \n",
      "  1 2 3 4 5 4 3 2 1 \n"
     ]
    }
   ],
   "source": [
    "n=5\n",
    "for i in range(n):\n",
    "    for j in range(n-i):\n",
    "        print(\" \",end=\" \")\n",
    "    for j in range(1,i+2):\n",
    "        print(j,end=\" \")\n",
    "    for j in range(i,0,-1):\n",
    "        print(j,end=\" \")\n",
    "    \n",
    "\n",
    "    print()"
   ]
  },
  {
   "cell_type": "code",
   "execution_count": 1,
   "id": "8fa86249",
   "metadata": {},
   "outputs": [
    {
     "name": "stdout",
     "output_type": "stream",
     "text": [
      "* * * * * \n",
      "* * * * * \n",
      "* * * * * \n",
      "* * * * * \n",
      "* * * * * \n"
     ]
    }
   ],
   "source": [
    "n=5\n",
    "for i in range(n):\n",
    "    for j in range(n):\n",
    "        print(\"*\",end=\" \")\n",
    "    print()"
   ]
  },
  {
   "cell_type": "code",
   "execution_count": 10,
   "id": "f92c1756",
   "metadata": {},
   "outputs": [
    {
     "name": "stdout",
     "output_type": "stream",
     "text": [
      "* * * * * \n",
      "* * * * \n",
      "* * * \n",
      "* * \n",
      "* \n"
     ]
    }
   ],
   "source": [
    "n=5\n",
    "for i in range(n):\n",
    "    for j in range(n-i):\n",
    "        print(\"*\",end=\" \")\n",
    "    print()"
   ]
  },
  {
   "cell_type": "code",
   "execution_count": 12,
   "id": "6b3af058",
   "metadata": {},
   "outputs": [
    {
     "name": "stdout",
     "output_type": "stream",
     "text": [
      "          *   \n",
      "        *   *   \n",
      "      *   *   *   \n",
      "    *   *   *   *   \n",
      "  *   *   *   *   *   \n"
     ]
    }
   ],
   "source": [
    "n=5\n",
    "for i in range(n):\n",
    "    for j in range(n-i):\n",
    "        print(\" \",end=\" \")\n",
    "    for j in range(i+1):\n",
    "        print(\"*  \",end=\" \")\n",
    "    print()"
   ]
  },
  {
   "cell_type": "code",
   "execution_count": 17,
   "id": "2aa3410f",
   "metadata": {},
   "outputs": [
    {
     "name": "stdout",
     "output_type": "stream",
     "text": [
      "        * \n",
      "       * * \n",
      "      * * * \n",
      "     * * * * \n",
      "    * * * * * \n"
     ]
    }
   ],
   "source": [
    "def pattern(n):\n",
    "    k = 2 * n - 2\n",
    "    for i in range(0, n):\n",
    "        for j in range(0, k):\n",
    "            print(\"\",end=\" \")\n",
    "        k = k - 1\n",
    "        for j in range(0, i + 1):\n",
    "            print(\"*\", end=\" \")\n",
    "        print(\"\\r\")\n",
    "\n",
    "pattern(5)"
   ]
  },
  {
   "cell_type": "code",
   "execution_count": null,
   "id": "b878e2e2",
   "metadata": {},
   "outputs": [
    {
     "name": "stdout",
     "output_type": "stream",
     "text": [
      "         *  &#92r\n",
      "        *   *  &#92r\n",
      "       *   *   *  &#92r\n",
      "      *   *   *   *  &#92r\n",
      "     *   *   *   *   *  &#92r\n"
     ]
    }
   ],
   "source": [
    "def pattern(n):\n",
    "      k = 2 * n - 2\n",
    "      for i in range(0,n):\n",
    "           for j in range(0,k):\n",
    "               print(end=\" \")\n",
    "           k = k - 1\n",
    "           for j in range(0, i+1):\n",
    "                print(\"*\", end=\" \")\n",
    "           print(\"&#92r\")\n",
    " \n",
    "pattern(5)"
   ]
  },
  {
   "cell_type": "code",
   "execution_count": null,
   "id": "3589848b",
   "metadata": {},
   "outputs": [],
   "source": [
    "n=5\n",
    "for i in range(n):\n",
    "    for j in range()"
   ]
  },
  {
   "cell_type": "code",
   "execution_count": 33,
   "id": "0c2c4897",
   "metadata": {},
   "outputs": [
    {
     "name": "stdout",
     "output_type": "stream",
     "text": [
      "  * * * * * * * * * \n",
      "    * * * * * * * \n",
      "      * * * * * \n",
      "        * * * \n",
      "          * \n"
     ]
    }
   ],
   "source": [
    "n=5\n",
    "for i in range(n):\n",
    "    for j in range(i+1):\n",
    "        print(\" \",end=\" \")\n",
    "    for j in range(n-i):\n",
    "        print(\"*\",end=\" \")\n",
    "    for j in range(n-i-1):\n",
    "        print(\"*\",end=\" \")\n",
    "    print()"
   ]
  },
  {
   "cell_type": "code",
   "execution_count": 45,
   "id": "4f922ea0",
   "metadata": {},
   "outputs": [
    {
     "name": "stdout",
     "output_type": "stream",
     "text": [
      "     \n",
      "    * \n",
      "   * * \n",
      "  * * * \n",
      " * * * * \n",
      "* * * * * \n",
      " * * * * \n",
      "  * * * \n",
      "   * * \n",
      "    * \n"
     ]
    }
   ],
   "source": [
    "n=5\n",
    "for i in range(n+1):\n",
    "    print(\" \"*(n-i)+\"* \"*(i))\n",
    "for i in range(n-1,0,-1):\n",
    "    print(\" \"*(n-i)+\"* \"*i)"
   ]
  },
  {
   "cell_type": "code",
   "execution_count": 29,
   "id": "1cd80186",
   "metadata": {},
   "outputs": [
    {
     "name": "stdout",
     "output_type": "stream",
     "text": [
      "* * * * * \n",
      " * * * * \n",
      "  * * * \n",
      "   * * \n",
      "    * \n"
     ]
    }
   ],
   "source": [
    "n=5\n",
    "for i in range(n,0,-1):\n",
    "    print(\" \"*(n-i)+\"* \"*i)"
   ]
  },
  {
   "cell_type": "code",
   "execution_count": 33,
   "id": "07c3f8d9",
   "metadata": {},
   "outputs": [
    {
     "name": "stdout",
     "output_type": "stream",
     "text": [
      "        *  * \n",
      "      *      * \n",
      "    *          * \n",
      "  *              * \n",
      "* * * * *  * * * * * \n"
     ]
    }
   ],
   "source": [
    "n=5\n",
    "for i in range(n):\n",
    "    \n",
    "    for j in range(n-i-1):\n",
    "        print(\" \",end=\" \")\n",
    "    for j in range(i+1):\n",
    "        if ( (j==0) or (i==n-1))  or j==((n//2+i)) :\n",
    "                print(\"*\",end=\" \")\n",
    "        else:\n",
    "             print(\" \",end=\" \")\n",
    "    print(\"\",end=\" \")\n",
    "    for j in range(i + 1):\n",
    "        if j == i or i == n - 1 :\n",
    "            print(\"*\", end=\" \")\n",
    "        else:\n",
    "            print(\" \", end=\" \")\n",
    "\n",
    "    print()\n",
    "\n",
    "    \n",
    "\n",
    "\n",
    "\n",
    "\n",
    "    "
   ]
  },
  {
   "cell_type": "code",
   "execution_count": 3,
   "id": "a4b60ccb",
   "metadata": {},
   "outputs": [
    {
     "name": "stdout",
     "output_type": "stream",
     "text": [
      "    *\n",
      "   * *\n",
      "  *   *\n",
      " *     *\n",
      "*********\n"
     ]
    }
   ],
   "source": [
    "n = 5  # Height of the pyramid\n",
    "\n",
    "for i in range(n):\n",
    "    # Print leading spaces for centering\n",
    "    for j in range(n - i-1):\n",
    "        print(\" \", end=\"\")\n",
    "\n",
    "    # Print the hollow pyramid pattern\n",
    "    for j in range(2 * i + 1):\n",
    "        if j == 0 or j == 2 * i or i == n - 1:\n",
    "            print(\"*\", end=\"\")\n",
    "        else:\n",
    "            print(\" \", end=\"\")\n",
    "    print()\n"
   ]
  },
  {
   "cell_type": "code",
   "execution_count": null,
   "id": "9ae46bb6",
   "metadata": {},
   "outputs": [
    {
     "name": "stdout",
     "output_type": "stream",
     "text": [
      "          * * \n",
      "        * * * * \n",
      "      *   * *   * \n",
      "    *     * *     * \n",
      "  * * * * * * * * * * \n"
     ]
    }
   ],
   "source": [
    "n = 5\n",
    "\n",
    "for i in range(n):\n",
    "    # Left triangle (right-aligned hollow)\n",
    "    for j in range(n - i):\n",
    "        print(\" \", end=\" \")\n",
    "    for j in range(i + 1):\n",
    "        if j == 0 or j == i or i == n - 1:\n",
    "            print(\"*\", end=\" \")\n",
    "        else:\n",
    "            print(\" \", end=\" \")\n",
    " \n",
    "  \n",
    "\n",
    "    # Right triangle (left-aligned hollow)\n",
    "    for j in range(i + 1):\n",
    "        if j == 0 or j == i or i == n - 1:\n",
    "            print(\"*\", end=\" \")\n",
    "        else:\n",
    "            print(\" \", end=\" \")\n",
    "\n",
    "    print()\n"
   ]
  },
  {
   "cell_type": "code",
   "execution_count": 7,
   "id": "6617d21c",
   "metadata": {},
   "outputs": [
    {
     "name": "stdout",
     "output_type": "stream",
     "text": [
      "* * * * * \n",
      "* * * * * \n",
      "* * * * * \n",
      "* * * * * \n",
      "* * * * * \n"
     ]
    }
   ],
   "source": [
    "n=5\n",
    "for i in range(n):\n",
    "    for j in range(n):\n",
    "        print(\"*\",end=\" \")\n",
    "    print()"
   ]
  },
  {
   "cell_type": "code",
   "execution_count": 15,
   "id": "1d9670b5",
   "metadata": {},
   "outputs": [
    {
     "name": "stdout",
     "output_type": "stream",
     "text": [
      "    *     \n",
      "  *   *   \n",
      "*       * \n",
      "  *   *   \n",
      "    *     \n"
     ]
    }
   ],
   "source": [
    "n = 5  # Must be an odd number\n",
    "\n",
    "for i in range(n):\n",
    "    for j in range(n):\n",
    "        # Top half\n",
    "        if i <= n // 2:\n",
    "            if j == (n // 2 - i) or j == (n // 2 + i):\n",
    "                print(\"*\", end=\" \")\n",
    "            else:\n",
    "                print(\" \", end=\" \")\n",
    "        # Bottom half\n",
    "        else:\n",
    "            if j == (i - n // 2) or j == (n - 1 - (i - n // 2)):\n",
    "                print(\"*\", end=\" \")\n",
    "            else:\n",
    "                print(\" \", end=\" \")\n",
    "    print()\n"
   ]
  },
  {
   "cell_type": "code",
   "execution_count": 14,
   "id": "114d28d7",
   "metadata": {},
   "outputs": [
    {
     "name": "stdout",
     "output_type": "stream",
     "text": [
      "    *     \n",
      "    *     \n",
      "* * * * * \n",
      "    *     \n",
      "    *     \n"
     ]
    }
   ],
   "source": [
    "n=5\n",
    "for i in range(n):\n",
    "    for j in range(n):\n",
    "        if (j==2 or i==2  ):\n",
    "           print(\"*\",end=\" \")\n",
    "        else:\n",
    "            print(\" \",end=\" \")\n",
    "    print()"
   ]
  },
  {
   "cell_type": "code",
   "execution_count": 65,
   "id": "0c771d6c",
   "metadata": {},
   "outputs": [
    {
     "name": "stdout",
     "output_type": "stream",
     "text": [
      "* \n",
      "* * \n",
      "*   * \n",
      "*     * \n",
      "* * * * * \n"
     ]
    }
   ],
   "source": [
    "n=5\n",
    "for i in range(n):\n",
    "    for j in range(i+1):\n",
    "        if ((j==0) or (i==n-1) or (j==i)):\n",
    "            print(\"*\",end=\" \")\n",
    "        else:\n",
    "            print(\" \",end=\" \")\n",
    "    print()"
   ]
  }
 ],
 "metadata": {
  "kernelspec": {
   "display_name": "Python 3",
   "language": "python",
   "name": "python3"
  },
  "language_info": {
   "codemirror_mode": {
    "name": "ipython",
    "version": 3
   },
   "file_extension": ".py",
   "mimetype": "text/x-python",
   "name": "python",
   "nbconvert_exporter": "python",
   "pygments_lexer": "ipython3",
   "version": "3.13.1"
  }
 },
 "nbformat": 4,
 "nbformat_minor": 5
}
