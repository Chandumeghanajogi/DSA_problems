{
 "cells": [
  {
   "cell_type": "code",
   "execution_count": 2,
   "id": "655b9336",
   "metadata": {},
   "outputs": [
    {
     "name": "stdout",
     "output_type": "stream",
     "text": [
      "[0, 1, 4, 6, 30, 33, 40, 200, 10000]\n"
     ]
    }
   ],
   "source": [
    "#the merge sort \n",
    "\n",
    "def sort(left,right):\n",
    "    i=0\n",
    "    j=0\n",
    "    res=[]\n",
    "    while i<len(left) and j<len(right):\n",
    "        if left[i]<right[j]:\n",
    "            res.append(left[i])\n",
    "            i+=1\n",
    "        else:\n",
    "            res.append(right[j])\n",
    "            j+=1\n",
    "    while i<len(left):\n",
    "        res.append(left[i])\n",
    "        i+=1\n",
    "    while j<len(right):\n",
    "        res.append(right[j])\n",
    "        j+=1\n",
    "    return res\n",
    "\n",
    "def mergealgo(arr):\n",
    "    if len(arr)<=1:\n",
    "        return arr\n",
    "    mid=len(arr)//2\n",
    "    left=mergealgo(arr[:mid])\n",
    "    right=mergealgo(arr[mid:])\n",
    "    return sort(left,right)\n",
    "\n",
    "\n",
    "\n",
    "arr=[1,0,10000,33,200,30,40,4,6]\n",
    "print(mergealgo(arr))"
   ]
  },
  {
   "cell_type": "code",
   "execution_count": 13,
   "id": "e6875164",
   "metadata": {},
   "outputs": [
    {
     "name": "stdout",
     "output_type": "stream",
     "text": [
      "[0, 1, 4, 6, 30, 33, 40, 200, 10000]\n"
     ]
    }
   ],
   "source": [
    "#the quick sort algo:\n",
    "\n",
    "def partition(arr,low=0,high=len(arr)):\n",
    "    p=arr[low]\n",
    "    i=low+1\n",
    "    j=high\n",
    "    while True:\n",
    "        while i<=j and arr[i]<=p:\n",
    "            i+=1\n",
    "        while i<=j and arr[j]>=p:\n",
    "            j-=1\n",
    "        if i<=j:\n",
    "            arr[i],arr[j]=arr[j],arr[i]\n",
    "        else:\n",
    "            break\n",
    "    arr[low],arr[j]=arr[j],arr[low]\n",
    "    return j\n",
    "\n",
    "    \n",
    "\n",
    "def quick(arr,low,high):\n",
    "    if low<high:\n",
    "        pivot=partition(arr,low,high)\n",
    "        quick(arr,low,pivot-1)\n",
    "        quick(arr,pivot+1,high)\n",
    "    return arr\n",
    "\n",
    "    \n",
    "    \n",
    "\n",
    "\n",
    "arr=[1,0,10000,33,200,30,40,4,6]\n",
    "print(quick(arr,low=0,high=len(arr)-1))"
   ]
  },
  {
   "cell_type": "code",
   "execution_count": 17,
   "id": "b5b4a7cb",
   "metadata": {},
   "outputs": [
    {
     "name": "stdout",
     "output_type": "stream",
     "text": [
      "1 5 7 12 20 30 \n"
     ]
    }
   ],
   "source": [
    "class node:\n",
    "    def __init__(self,data):\n",
    "        self.data=data\n",
    "        self.next=None\n",
    "class Linked:\n",
    "    def build(self,arr):\n",
    "        self.head=node(arr[0])\n",
    "        curr=self.head\n",
    "        for i in arr[1:]:\n",
    "            curr.next=node(i)\n",
    "            curr=curr.next\n",
    "        return self.head\n",
    "    \n",
    "    def mainalgo(self,left,right):\n",
    "        dummy=curr=node(0)\n",
    "        while left!=None and right!=None:\n",
    "            if left.data<right.data:\n",
    "                curr.next=left\n",
    "                left=left.next\n",
    "            else:\n",
    "                curr.next=right\n",
    "                right=right.next\n",
    "            curr=curr.next\n",
    "        curr.next=left if left else right\n",
    "\n",
    "        return dummy.next\n",
    "    \n",
    "    def mergealgo(self,h1):\n",
    "        \n",
    "        head=h1\n",
    "        slow=head\n",
    "        fast=head\n",
    "        if head==None or head.next==None:\n",
    "            return head\n",
    "        while fast.next and fast.next.next:\n",
    "            slow=slow.next\n",
    "            fast=fast.next.next\n",
    "            \n",
    "        mid=slow.next\n",
    "        slow.next=None\n",
    "        \n",
    "        left=self.mergealgo(head)\n",
    "        right=self.mergealgo(mid)\n",
    "\n",
    "        return self.mainalgo(left,right)\n",
    "        \n",
    "        \n",
    "\n",
    "\n",
    "\n",
    "\n",
    "\n",
    "\n",
    "\n",
    "arr=[12,30,20,1,5,7]\n",
    "obj=Linked()\n",
    "h1=obj.build(arr)\n",
    "res = obj.mergealgo(h1)\n",
    "curr = res\n",
    "while curr:\n",
    "    print(curr.data, end=' ')\n",
    "    curr = curr.next\n",
    "print()\n",
    "\n",
    "\n",
    "\n",
    "\n",
    "\n"
   ]
  },
  {
   "cell_type": "code",
   "execution_count": null,
   "id": "f2abc639",
   "metadata": {},
   "outputs": [],
   "source": [
    "__"
   ]
  }
 ],
 "metadata": {
  "kernelspec": {
   "display_name": "Python 3",
   "language": "python",
   "name": "python3"
  },
  "language_info": {
   "codemirror_mode": {
    "name": "ipython",
    "version": 3
   },
   "file_extension": ".py",
   "mimetype": "text/x-python",
   "name": "python",
   "nbconvert_exporter": "python",
   "pygments_lexer": "ipython3",
   "version": "3.13.1"
  }
 },
 "nbformat": 4,
 "nbformat_minor": 5
}
