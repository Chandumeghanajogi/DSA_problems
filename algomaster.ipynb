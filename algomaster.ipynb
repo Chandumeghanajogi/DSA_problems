{
 "cells": [
  {
   "cell_type": "code",
   "execution_count": null,
   "id": "d630616f",
   "metadata": {},
   "outputs": [],
   "source": [
    "def twosum(arr, target):\n",
    "    \n",
    "\n",
    "arr = [1, -20, -3, 30, 5, 4]\n",
    "target = 7\n",
    "print(twosum(arr, target))  # Output: [1, 4]\n"
   ]
  },
  {
   "cell_type": "code",
   "execution_count": 42,
   "id": "2d8f15c9",
   "metadata": {},
   "outputs": [
    {
     "name": "stdout",
     "output_type": "stream",
     "text": [
      "6\n"
     ]
    }
   ],
   "source": [
    "a=[1,2,3,100,101,4,5,102,99,103,104]\n",
    "seen=set()\n",
    "longest=0\n",
    "for i in a:\n",
    "    seen.add(i)\n",
    "for i in seen:\n",
    "    if i-1 not in seen:\n",
    "        count=0\n",
    "        ele=i\n",
    "        while i in seen:\n",
    "            count+=1\n",
    "            i=i+1\n",
    "        longest=max(count,longest)\n",
    "print(longest)\n"
   ]
  },
  {
   "cell_type": "code",
   "execution_count": 61,
   "id": "ebd5655d",
   "metadata": {},
   "outputs": [
    {
     "name": "stdout",
     "output_type": "stream",
     "text": [
      "24\n",
      "[0, 0, 0, 0, 0, 0, 0]\n"
     ]
    }
   ],
   "source": [
    "a=[0,1,2,-4,-1,3,0]\n",
    "zerocount=a.count(0)\n",
    "pro=1\n",
    "for i in a:\n",
    "    if i==0:\n",
    "        continue\n",
    "    else:\n",
    "        pro*=i\n",
    "print(pro)\n",
    "pre=[0]*len(a)\n",
    "for i in range(len(a)):\n",
    "    if zerocount>1:\n",
    "        pre[i]=0\n",
    "    elif zerocount==1:\n",
    "        if a[i]==0:\n",
    "            pre[i]=pro\n",
    "        else:\n",
    "            pre[i]=0\n",
    "    \n",
    "    else:\n",
    "        pre[i]=pro//a[i]\n",
    "    \n",
    "    \n",
    "\n",
    "print(pre)\n"
   ]
  },
  {
   "cell_type": "code",
   "execution_count": 95,
   "id": "e747ec7b",
   "metadata": {},
   "outputs": [
    {
     "name": "stdout",
     "output_type": "stream",
     "text": [
      "[1, 0, 0, 0, 0]\n",
      "[1, 2, -8, 8, 24]\n",
      "[24, 24, 12, -3, 3]\n",
      "[24, 12, -6, -24, 8]\n"
     ]
    }
   ],
   "source": [
    "a=[1,2,-4,-1,3]\n",
    "n=len(a)\n",
    "prefix=[0]*n\n",
    "suffix=[0]*n\n",
    "prefix[0]=a[0]\n",
    "suffix[n-1]=a[n-1]\n",
    "print(prefix)\n",
    "for i in range(1,n):\n",
    "    prefix[i]=prefix[i-1]*a[i]\n",
    "print(prefix)\n",
    "for i in range(len(a)-2,-1,-1):\n",
    "    suffix[i]=suffix[i+1]*a[i]\n",
    "print(suffix)\n",
    "res=[0]*n\n",
    "res[0]=suffix[1]\n",
    "res[-1]=prefix[-2]\n",
    "for i in range(1,n-1):\n",
    "    res[i]=suffix[i+1]*prefix[i-1]\n",
    "print(res)\n"
   ]
  },
  {
   "cell_type": "code",
   "execution_count": null,
   "id": "313ba255",
   "metadata": {},
   "outputs": [
    {
     "name": "stdout",
     "output_type": "stream",
     "text": [
      "[0, 0, 0, 0, 0, 0, 10]\n",
      "5\n",
      "4\n",
      "3\n",
      "2\n",
      "1\n",
      "0\n",
      "[31, 30, 28, 25, 21, 16, 10]\n"
     ]
    }
   ],
   "source": [
    "#about the prefix sum:\n",
    "\n",
    "a=[1,2,3,4,5,6,10]\n",
    "prefix=[0]*(len(a))\n",
    "# prefix[0]=a[0]\n",
    "\n",
    "# for i in range(1,len(a)):\n",
    "#     prefix[i]+=(prefix[i-1]+a[i]) 4 7 9 10\n",
    "# print(prefix)\n",
    "n=len(a)\n",
    "prefix[n-1]=a[n-1]\n",
    "print(prefix)\n",
    "for i in range(len(a)-2,-1,-1):\n",
    "    prefix[i]+=(prefix[i+1]+a[i])\n",
    "print(prefix)\n",
    "\n"
   ]
  }
 ],
 "metadata": {
  "kernelspec": {
   "display_name": "Python 3",
   "language": "python",
   "name": "python3"
  },
  "language_info": {
   "codemirror_mode": {
    "name": "ipython",
    "version": 3
   },
   "file_extension": ".py",
   "mimetype": "text/x-python",
   "name": "python",
   "nbconvert_exporter": "python",
   "pygments_lexer": "ipython3",
   "version": "3.13.1"
  }
 },
 "nbformat": 4,
 "nbformat_minor": 5
}
