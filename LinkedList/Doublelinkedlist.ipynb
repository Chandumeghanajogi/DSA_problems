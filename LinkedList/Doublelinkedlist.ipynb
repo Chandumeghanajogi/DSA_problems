{
 "cells": [
  {
   "cell_type": "code",
   "execution_count": null,
   "id": "5f91f781",
   "metadata": {},
   "outputs": [
    {
     "name": "stdout",
     "output_type": "stream",
     "text": [
      "<__main__.node object at 0x000001D6FB979A90>\n",
      "40<----->30<----->20<----->10<----->50<----->None\n"
     ]
    }
   ],
   "source": [
    "class node:\n",
    "    def __init__(self,data):\n",
    "        self.data=data\n",
    "        self.next=None\n",
    "        self.prev=None\n",
    "class Linked:\n",
    "    def __init__(self):\n",
    "        self.head=None\n",
    "\n",
    "    def insertatbeg(self,data):\n",
    "        new=node(data)\n",
    "        new.next=self.head\n",
    "        new.prev=None\n",
    "        self.head=new\n",
    "    def insertatend(self,data):\n",
    "        new=node(data)\n",
    "        curr=self.head\n",
    "        while curr.next!=None:\n",
    "            curr=curr.next\n",
    "        curr.next=new\n",
    "        new.prev=curr\n",
    "\n",
    "    def insertatpos(self,k,data):\n",
    "        new=node(data)\n",
    "        curr=self.head\n",
    "        count=0\n",
    "        while curr and count<k-1:\n",
    "            count+=1\n",
    "            curr=curr.next\n",
    "        new.next=curr.next\n",
    "        new.prev=curr\n",
    "        print(curr.next)\n",
    "        if curr.next:\n",
    "            curr.next.prev=new\n",
    "        curr.next=new\n",
    "\n",
    "            \n",
    "       \n",
    "\n",
    "    def display(self):\n",
    "        temp=self.head\n",
    "        while temp:\n",
    "            print(temp.data,end=\"<----->\")\n",
    "            temp=temp.next\n",
    "        print(None)\n",
    "\n",
    "        \n",
    "\n",
    "obj=Linked()\n",
    "obj.insertatbeg(10)\n",
    "obj.insertatbeg(20)\n",
    "obj.insertatbeg(30)\n",
    "obj.insertatbeg(40)\n",
    "obj.insertatend(50)\n",
    "obj.insertatpos(k=2,data=100)\n",
    "obj.display()\n",
    "        "
   ]
  }
 ],
 "metadata": {
  "kernelspec": {
   "display_name": "Python 3",
   "language": "python",
   "name": "python3"
  },
  "language_info": {
   "codemirror_mode": {
    "name": "ipython",
    "version": 3
   },
   "file_extension": ".py",
   "mimetype": "text/x-python",
   "name": "python",
   "nbconvert_exporter": "python",
   "pygments_lexer": "ipython3",
   "version": "3.13.1"
  }
 },
 "nbformat": 4,
 "nbformat_minor": 5
}
