{
 "cells": [
  {
   "cell_type": "code",
   "execution_count": 2,
   "id": "8347fe77",
   "metadata": {},
   "outputs": [
    {
     "name": "stdout",
     "output_type": "stream",
     "text": [
      "childs show()\n"
     ]
    }
   ],
   "source": [
    "class chandu:\n",
    "    def speak(self):\n",
    "        print(f\"parentshow()\")\n",
    "class akhil(chandu):\n",
    "    def speak(self):\n",
    "        print(f\"childs show()\")\n",
    "p=chandu()\n",
    "q=akhil()\n",
    "n=int(input())\n",
    "if n==1:\n",
    "    p.speak()\n",
    "else:\n",
    "    q.speak()"
   ]
  },
  {
   "cell_type": "code",
   "execution_count": 11,
   "id": "2c6c74e6",
   "metadata": {},
   "outputs": [
    {
     "ename": "TypeError",
     "evalue": "Can't instantiate abstract class chandu without an implementation for abstract method 'stop'",
     "output_type": "error",
     "traceback": [
      "\u001b[1;31m---------------------------------------------------------------------------\u001b[0m",
      "\u001b[1;31mTypeError\u001b[0m                                 Traceback (most recent call last)",
      "Cell \u001b[1;32mIn[11], line 29\u001b[0m\n\u001b[0;32m     25\u001b[0m     \u001b[38;5;28;01mdef\u001b[39;00m\u001b[38;5;250m \u001b[39m\u001b[38;5;21mstart\u001b[39m(\u001b[38;5;28mself\u001b[39m):\n\u001b[0;32m     26\u001b[0m         \u001b[38;5;28mprint\u001b[39m(\u001b[38;5;124m\"\u001b[39m\u001b[38;5;124mbike is going \u001b[39m\u001b[38;5;124m\"\u001b[39m)\n\u001b[1;32m---> 29\u001b[0m chandu1\u001b[38;5;241m=\u001b[39m\u001b[43mchandu\u001b[49m\u001b[43m(\u001b[49m\u001b[43m)\u001b[49m\n\u001b[0;32m     30\u001b[0m chandu1\u001b[38;5;241m.\u001b[39mhello()\n\u001b[0;32m     31\u001b[0m obj\u001b[38;5;241m=\u001b[39mbike()\n",
      "\u001b[1;31mTypeError\u001b[0m: Can't instantiate abstract class chandu without an implementation for abstract method 'stop'"
     ]
    }
   ],
   "source": [
    "from abc import ABC,abstractmethod\n",
    "class vehicle(ABC):\n",
    "    @abstractmethod\n",
    "    def start(self):\n",
    "        pass\n",
    "    @abstractmethod\n",
    "    def stop(self):\n",
    "        pass\n",
    "    def hello(self):\n",
    "        return \"hello\"\n",
    "class car(vehicle):\n",
    "    def start(self):\n",
    "        print(\"car started\")\n",
    "    def stop(self):\n",
    "        print(\"car stopped\")\n",
    "class bike(vehicle):\n",
    "    def start(self):\n",
    "        print(\"bike is going \")\n",
    "    def stop(self):\n",
    "        print(\"bike stopped\")\n",
    "    def hello(self):\n",
    "        print(super().hello())\n",
    "        print(\"welcome to bokes shop\")\n",
    "class chandu(vehicle):\n",
    "    def start(self):\n",
    "        print(\"bike is going \")\n",
    "\n",
    "\n",
    "chandu1=chandu()\n",
    "chandu1.hello()\n",
    "obj=bike()\n",
    "obj.start()\n",
    "obj.stop()\n",
    "obj.hello()\n",
    "object=vehicle()\n",
    "object.hello()\n",
    "\n"
   ]
  },
  {
   "cell_type": "code",
   "execution_count": 12,
   "id": "8f487322",
   "metadata": {},
   "outputs": [
    {
     "name": "stdout",
     "output_type": "stream",
     "text": [
      "15\n"
     ]
    }
   ],
   "source": [
    "class rectangle:\n",
    "    def __init__(self,a1,a2):\n",
    "        self.a1=a1\n",
    "        self.a2=a2\n",
    "    def area(self):\n",
    "        return self.a1*self.a2\n",
    "obj=rectangle(5,3)\n",
    "print(obj.area())"
   ]
  },
  {
   "cell_type": "code",
   "execution_count": 31,
   "id": "b4c99cc0",
   "metadata": {},
   "outputs": [
    {
     "name": "stdout",
     "output_type": "stream",
     "text": [
      "paid 500000000 via credit\n",
      "paid 5000 via upi\n",
      "refund 5000 via upi\n",
      "paid 500 via credit\n",
      "paid 500 via upi\n"
     ]
    }
   ],
   "source": [
    "from abc import ABC,abstractmethod\n",
    "class payment:\n",
    "    @abstractmethod\n",
    "    def pay(self,amount):\n",
    "        pass\n",
    "    @abstractmethod\n",
    "    def refund(self,amount):\n",
    "        pass\n",
    "class creditcard(payment):\n",
    "    def pay(self,amount):\n",
    "        print(f\"paid {amount} via credit\")\n",
    "    def refund(self,amount):\n",
    "        print(f\"refund {amount} via credit\")\n",
    "class upicard(payment):\n",
    "    def pay(self,amount):\n",
    "        self.amount=amount\n",
    "        print(f\"paid {self.amount} via upi\")\n",
    "    def refund(self,amount):\n",
    "        print(f\"refund {self.amount} via upi\")\n",
    "\n",
    "obj=creditcard()\n",
    "obj.pay(500000000)\n",
    "obj1=upicard()\n",
    "obj1.pay(5000)\n",
    "obj1.refund(400)\n",
    "ans=[creditcard(),upicard()]\n",
    "for i in ans:\n",
    "    i.pay(500)"
   ]
  }
 ],
 "metadata": {
  "kernelspec": {
   "display_name": "Python 3",
   "language": "python",
   "name": "python3"
  },
  "language_info": {
   "codemirror_mode": {
    "name": "ipython",
    "version": 3
   },
   "file_extension": ".py",
   "mimetype": "text/x-python",
   "name": "python",
   "nbconvert_exporter": "python",
   "pygments_lexer": "ipython3",
   "version": "3.13.1"
  }
 },
 "nbformat": 4,
 "nbformat_minor": 5
}
