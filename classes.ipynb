{
 "cells": [
  {
   "cell_type": "code",
   "execution_count": 2,
   "id": "8347fe77",
   "metadata": {},
   "outputs": [
    {
     "name": "stdout",
     "output_type": "stream",
     "text": [
      "childs show()\n"
     ]
    }
   ],
   "source": [
    "class chandu:\n",
    "    def speak(self):\n",
    "        print(f\"parentshow()\")\n",
    "class akhil(chandu):\n",
    "    def speak(self):\n",
    "        print(f\"childs show()\")\n",
    "p=chandu()\n",
    "q=akhil()\n",
    "n=int(input())\n",
    "if n==1:\n",
    "    p.speak()\n",
    "else:\n",
    "    q.speak()"
   ]
  },
  {
   "cell_type": "code",
   "execution_count": null,
   "id": "2c6c74e6",
   "metadata": {},
   "outputs": [],
   "source": []
  }
 ],
 "metadata": {
  "kernelspec": {
   "display_name": "Python 3",
   "language": "python",
   "name": "python3"
  },
  "language_info": {
   "codemirror_mode": {
    "name": "ipython",
    "version": 3
   },
   "file_extension": ".py",
   "mimetype": "text/x-python",
   "name": "python",
   "nbconvert_exporter": "python",
   "pygments_lexer": "ipython3",
   "version": "3.13.1"
  }
 },
 "nbformat": 4,
 "nbformat_minor": 5
}
